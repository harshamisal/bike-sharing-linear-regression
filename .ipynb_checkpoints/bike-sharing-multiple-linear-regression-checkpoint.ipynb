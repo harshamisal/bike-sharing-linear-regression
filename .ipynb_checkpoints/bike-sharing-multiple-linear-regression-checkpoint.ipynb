{
 "cells": [
  {
   "cell_type": "markdown",
   "metadata": {
    "papermill": {
     "duration": 0.088186,
     "end_time": "2022-01-22T13:16:16.841702",
     "exception": false,
     "start_time": "2022-01-22T13:16:16.753516",
     "status": "completed"
    },
    "tags": []
   },
   "source": [
    "# Multiple Linear Regression\n",
    "## Bike Sharing Assignment\n",
    "\n",
    "#### Problem Statement:\n",
    "\n",
    "A bike-sharing system is a service in which bikes are made available for shared use to individuals on a short term basis for a price or free. Many bike share systems allow people to borrow a bike from a \"dock\" which is usually computer-controlled wherein the user enters the payment information, and the system unlocks it. This bike can then be returned to another dock belonging to the same system.\n",
    "\n",
    "\n",
    "A US bike-sharing provider BikeIndia has recently suffered considerable dips in their revenues due to the ongoing Corona pandemic. The company is finding it very difficult to sustain in the current market scenario. So, it has decided to come up with a mindful business plan to be able to accelerate its revenue as soon as the ongoing lockdown comes to an end, and the economy restores to a healthy state. \n",
    "\n",
    "\n",
    "In such an attempt, **BikeIndia** aspires to understand the demand for shared bikes among the people after this ongoing quarantine situation ends across the nation due to Covid-19. They have planned this to prepare themselves to cater to the people's needs once the situation gets better all around and stand out from other service providers and make huge profits.\n",
    "\n",
    "\n",
    "They have contracted a consulting company to understand the factors on which the demand for these shared bikes depends. Specifically, they want to understand the factors affecting the demand for these shared bikes in the American market. The company wants to know:\n",
    "\n",
    "Which variables are significant in predicting the demand for shared bikes.\n",
    "How well those variables describe the bike demands\n",
    "Based on various meteorological surveys and people's styles, the service provider firm has gathered a large dataset on daily bike demands across the American market based on some factors. \n",
    "\n",
    "#### Business Goal:\n",
    "\n",
    "We are required to model the demand for shared bikes with the available independent variables. It will be used by the management to understand how exactly the demands vary with different features. They can accordingly manipulate the business strategy to meet the demand levels and meet the customer's expectations. Further, the model will be a good way for management to understand the demand dynamics of a new market. "
   ]
  },
  {
   "cell_type": "markdown",
   "metadata": {
    "papermill": {
     "duration": 0.086841,
     "end_time": "2022-01-22T13:16:17.017008",
     "exception": false,
     "start_time": "2022-01-22T13:16:16.930167",
     "status": "completed"
    },
    "tags": []
   },
   "source": [
    "##  Reading and Understanding the Data\n"
   ]
  },
  {
   "cell_type": "code",
   "execution_count": 2,
   "metadata": {
    "execution": {
     "iopub.execute_input": "2022-01-22T13:16:17.198453Z",
     "iopub.status.busy": "2022-01-22T13:16:17.197434Z",
     "iopub.status.idle": "2022-01-22T13:16:17.201547Z",
     "shell.execute_reply": "2022-01-22T13:16:17.202090Z"
    },
    "papermill": {
     "duration": 0.097579,
     "end_time": "2022-01-22T13:16:17.202280",
     "exception": false,
     "start_time": "2022-01-22T13:16:17.104701",
     "status": "completed"
    },
    "tags": []
   },
   "outputs": [],
   "source": [
    "# Supress Warnings\n",
    "\n",
    "import warnings\n",
    "warnings.filterwarnings('ignore')"
   ]
  },
  {
   "cell_type": "code",
   "execution_count": 3,
   "metadata": {
    "execution": {
     "iopub.execute_input": "2022-01-22T13:16:17.383527Z",
     "iopub.status.busy": "2022-01-22T13:16:17.382654Z",
     "iopub.status.idle": "2022-01-22T13:16:18.303599Z",
     "shell.execute_reply": "2022-01-22T13:16:18.303000Z"
    },
    "papermill": {
     "duration": 1.013942,
     "end_time": "2022-01-22T13:16:18.303719",
     "exception": false,
     "start_time": "2022-01-22T13:16:17.289777",
     "status": "completed"
    },
    "tags": []
   },
   "outputs": [],
   "source": [
    "import numpy as np\n",
    "import pandas as pd\n",
    "import matplotlib.pyplot as plt\n",
    "import seaborn as sns\n",
    "%matplotlib inline"
   ]
  },
  {
   "cell_type": "code",
   "execution_count": 4,
   "metadata": {
    "execution": {
     "iopub.execute_input": "2022-01-22T13:16:18.483838Z",
     "iopub.status.busy": "2022-01-22T13:16:18.483164Z",
     "iopub.status.idle": "2022-01-22T13:16:18.497510Z",
     "shell.execute_reply": "2022-01-22T13:16:18.498047Z"
    },
    "papermill": {
     "duration": 0.107633,
     "end_time": "2022-01-22T13:16:18.498219",
     "exception": false,
     "start_time": "2022-01-22T13:16:18.390586",
     "status": "completed"
    },
    "tags": []
   },
   "outputs": [],
   "source": [
    "import os\n",
    "for dirname, _, filenames in os.walk('/kaggle/input'):\n",
    "    for filename in filenames:\n",
    "        print(os.path.join(dirname, filename))"
   ]
  },
  {
   "cell_type": "code",
   "execution_count": 5,
   "metadata": {
    "execution": {
     "iopub.execute_input": "2022-01-22T13:16:18.680332Z",
     "iopub.status.busy": "2022-01-22T13:16:18.679297Z",
     "iopub.status.idle": "2022-01-22T13:16:18.699632Z",
     "shell.execute_reply": "2022-01-22T13:16:18.700232Z"
    },
    "papermill": {
     "duration": 0.112332,
     "end_time": "2022-01-22T13:16:18.700399",
     "exception": false,
     "start_time": "2022-01-22T13:16:18.588067",
     "status": "completed"
    },
    "tags": []
   },
   "outputs": [
    {
     "ename": "FileNotFoundError",
     "evalue": "[Errno 2] No such file or directory: 'bike-sharing/day.csv'",
     "output_type": "error",
     "traceback": [
      "\u001b[1;31m---------------------------------------------------------------------------\u001b[0m",
      "\u001b[1;31mFileNotFoundError\u001b[0m                         Traceback (most recent call last)",
      "Input \u001b[1;32mIn [5]\u001b[0m, in \u001b[0;36m<cell line: 1>\u001b[1;34m()\u001b[0m\n\u001b[1;32m----> 1\u001b[0m bike \u001b[38;5;241m=\u001b[39m pd\u001b[38;5;241m.\u001b[39mDataFrame(\u001b[43mpd\u001b[49m\u001b[38;5;241;43m.\u001b[39;49m\u001b[43mread_csv\u001b[49m\u001b[43m(\u001b[49m\u001b[38;5;124;43m\"\u001b[39;49m\u001b[38;5;124;43mbike-sharing/day.csv\u001b[39;49m\u001b[38;5;124;43m\"\u001b[39;49m\u001b[43m)\u001b[49m)\n",
      "File \u001b[1;32mC:\\Python310\\lib\\site-packages\\pandas\\util\\_decorators.py:311\u001b[0m, in \u001b[0;36mdeprecate_nonkeyword_arguments.<locals>.decorate.<locals>.wrapper\u001b[1;34m(*args, **kwargs)\u001b[0m\n\u001b[0;32m    305\u001b[0m \u001b[38;5;28;01mif\u001b[39;00m \u001b[38;5;28mlen\u001b[39m(args) \u001b[38;5;241m>\u001b[39m num_allow_args:\n\u001b[0;32m    306\u001b[0m     warnings\u001b[38;5;241m.\u001b[39mwarn(\n\u001b[0;32m    307\u001b[0m         msg\u001b[38;5;241m.\u001b[39mformat(arguments\u001b[38;5;241m=\u001b[39marguments),\n\u001b[0;32m    308\u001b[0m         \u001b[38;5;167;01mFutureWarning\u001b[39;00m,\n\u001b[0;32m    309\u001b[0m         stacklevel\u001b[38;5;241m=\u001b[39mstacklevel,\n\u001b[0;32m    310\u001b[0m     )\n\u001b[1;32m--> 311\u001b[0m \u001b[38;5;28;01mreturn\u001b[39;00m func(\u001b[38;5;241m*\u001b[39margs, \u001b[38;5;241m*\u001b[39m\u001b[38;5;241m*\u001b[39mkwargs)\n",
      "File \u001b[1;32mC:\\Python310\\lib\\site-packages\\pandas\\io\\parsers\\readers.py:680\u001b[0m, in \u001b[0;36mread_csv\u001b[1;34m(filepath_or_buffer, sep, delimiter, header, names, index_col, usecols, squeeze, prefix, mangle_dupe_cols, dtype, engine, converters, true_values, false_values, skipinitialspace, skiprows, skipfooter, nrows, na_values, keep_default_na, na_filter, verbose, skip_blank_lines, parse_dates, infer_datetime_format, keep_date_col, date_parser, dayfirst, cache_dates, iterator, chunksize, compression, thousands, decimal, lineterminator, quotechar, quoting, doublequote, escapechar, comment, encoding, encoding_errors, dialect, error_bad_lines, warn_bad_lines, on_bad_lines, delim_whitespace, low_memory, memory_map, float_precision, storage_options)\u001b[0m\n\u001b[0;32m    665\u001b[0m kwds_defaults \u001b[38;5;241m=\u001b[39m _refine_defaults_read(\n\u001b[0;32m    666\u001b[0m     dialect,\n\u001b[0;32m    667\u001b[0m     delimiter,\n\u001b[1;32m   (...)\u001b[0m\n\u001b[0;32m    676\u001b[0m     defaults\u001b[38;5;241m=\u001b[39m{\u001b[38;5;124m\"\u001b[39m\u001b[38;5;124mdelimiter\u001b[39m\u001b[38;5;124m\"\u001b[39m: \u001b[38;5;124m\"\u001b[39m\u001b[38;5;124m,\u001b[39m\u001b[38;5;124m\"\u001b[39m},\n\u001b[0;32m    677\u001b[0m )\n\u001b[0;32m    678\u001b[0m kwds\u001b[38;5;241m.\u001b[39mupdate(kwds_defaults)\n\u001b[1;32m--> 680\u001b[0m \u001b[38;5;28;01mreturn\u001b[39;00m \u001b[43m_read\u001b[49m\u001b[43m(\u001b[49m\u001b[43mfilepath_or_buffer\u001b[49m\u001b[43m,\u001b[49m\u001b[43m \u001b[49m\u001b[43mkwds\u001b[49m\u001b[43m)\u001b[49m\n",
      "File \u001b[1;32mC:\\Python310\\lib\\site-packages\\pandas\\io\\parsers\\readers.py:575\u001b[0m, in \u001b[0;36m_read\u001b[1;34m(filepath_or_buffer, kwds)\u001b[0m\n\u001b[0;32m    572\u001b[0m _validate_names(kwds\u001b[38;5;241m.\u001b[39mget(\u001b[38;5;124m\"\u001b[39m\u001b[38;5;124mnames\u001b[39m\u001b[38;5;124m\"\u001b[39m, \u001b[38;5;28;01mNone\u001b[39;00m))\n\u001b[0;32m    574\u001b[0m \u001b[38;5;66;03m# Create the parser.\u001b[39;00m\n\u001b[1;32m--> 575\u001b[0m parser \u001b[38;5;241m=\u001b[39m TextFileReader(filepath_or_buffer, \u001b[38;5;241m*\u001b[39m\u001b[38;5;241m*\u001b[39mkwds)\n\u001b[0;32m    577\u001b[0m \u001b[38;5;28;01mif\u001b[39;00m chunksize \u001b[38;5;129;01mor\u001b[39;00m iterator:\n\u001b[0;32m    578\u001b[0m     \u001b[38;5;28;01mreturn\u001b[39;00m parser\n",
      "File \u001b[1;32mC:\\Python310\\lib\\site-packages\\pandas\\io\\parsers\\readers.py:933\u001b[0m, in \u001b[0;36mTextFileReader.__init__\u001b[1;34m(self, f, engine, **kwds)\u001b[0m\n\u001b[0;32m    930\u001b[0m     \u001b[38;5;28mself\u001b[39m\u001b[38;5;241m.\u001b[39moptions[\u001b[38;5;124m\"\u001b[39m\u001b[38;5;124mhas_index_names\u001b[39m\u001b[38;5;124m\"\u001b[39m] \u001b[38;5;241m=\u001b[39m kwds[\u001b[38;5;124m\"\u001b[39m\u001b[38;5;124mhas_index_names\u001b[39m\u001b[38;5;124m\"\u001b[39m]\n\u001b[0;32m    932\u001b[0m \u001b[38;5;28mself\u001b[39m\u001b[38;5;241m.\u001b[39mhandles: IOHandles \u001b[38;5;241m|\u001b[39m \u001b[38;5;28;01mNone\u001b[39;00m \u001b[38;5;241m=\u001b[39m \u001b[38;5;28;01mNone\u001b[39;00m\n\u001b[1;32m--> 933\u001b[0m \u001b[38;5;28mself\u001b[39m\u001b[38;5;241m.\u001b[39m_engine \u001b[38;5;241m=\u001b[39m \u001b[38;5;28;43mself\u001b[39;49m\u001b[38;5;241;43m.\u001b[39;49m\u001b[43m_make_engine\u001b[49m\u001b[43m(\u001b[49m\u001b[43mf\u001b[49m\u001b[43m,\u001b[49m\u001b[43m \u001b[49m\u001b[38;5;28;43mself\u001b[39;49m\u001b[38;5;241;43m.\u001b[39;49m\u001b[43mengine\u001b[49m\u001b[43m)\u001b[49m\n",
      "File \u001b[1;32mC:\\Python310\\lib\\site-packages\\pandas\\io\\parsers\\readers.py:1217\u001b[0m, in \u001b[0;36mTextFileReader._make_engine\u001b[1;34m(self, f, engine)\u001b[0m\n\u001b[0;32m   1213\u001b[0m     mode \u001b[38;5;241m=\u001b[39m \u001b[38;5;124m\"\u001b[39m\u001b[38;5;124mrb\u001b[39m\u001b[38;5;124m\"\u001b[39m\n\u001b[0;32m   1214\u001b[0m \u001b[38;5;66;03m# error: No overload variant of \"get_handle\" matches argument types\u001b[39;00m\n\u001b[0;32m   1215\u001b[0m \u001b[38;5;66;03m# \"Union[str, PathLike[str], ReadCsvBuffer[bytes], ReadCsvBuffer[str]]\"\u001b[39;00m\n\u001b[0;32m   1216\u001b[0m \u001b[38;5;66;03m# , \"str\", \"bool\", \"Any\", \"Any\", \"Any\", \"Any\", \"Any\"\u001b[39;00m\n\u001b[1;32m-> 1217\u001b[0m \u001b[38;5;28mself\u001b[39m\u001b[38;5;241m.\u001b[39mhandles \u001b[38;5;241m=\u001b[39m \u001b[43mget_handle\u001b[49m\u001b[43m(\u001b[49m\u001b[43m  \u001b[49m\u001b[38;5;66;43;03m# type: ignore[call-overload]\u001b[39;49;00m\n\u001b[0;32m   1218\u001b[0m \u001b[43m    \u001b[49m\u001b[43mf\u001b[49m\u001b[43m,\u001b[49m\n\u001b[0;32m   1219\u001b[0m \u001b[43m    \u001b[49m\u001b[43mmode\u001b[49m\u001b[43m,\u001b[49m\n\u001b[0;32m   1220\u001b[0m \u001b[43m    \u001b[49m\u001b[43mencoding\u001b[49m\u001b[38;5;241;43m=\u001b[39;49m\u001b[38;5;28;43mself\u001b[39;49m\u001b[38;5;241;43m.\u001b[39;49m\u001b[43moptions\u001b[49m\u001b[38;5;241;43m.\u001b[39;49m\u001b[43mget\u001b[49m\u001b[43m(\u001b[49m\u001b[38;5;124;43m\"\u001b[39;49m\u001b[38;5;124;43mencoding\u001b[39;49m\u001b[38;5;124;43m\"\u001b[39;49m\u001b[43m,\u001b[49m\u001b[43m \u001b[49m\u001b[38;5;28;43;01mNone\u001b[39;49;00m\u001b[43m)\u001b[49m\u001b[43m,\u001b[49m\n\u001b[0;32m   1221\u001b[0m \u001b[43m    \u001b[49m\u001b[43mcompression\u001b[49m\u001b[38;5;241;43m=\u001b[39;49m\u001b[38;5;28;43mself\u001b[39;49m\u001b[38;5;241;43m.\u001b[39;49m\u001b[43moptions\u001b[49m\u001b[38;5;241;43m.\u001b[39;49m\u001b[43mget\u001b[49m\u001b[43m(\u001b[49m\u001b[38;5;124;43m\"\u001b[39;49m\u001b[38;5;124;43mcompression\u001b[39;49m\u001b[38;5;124;43m\"\u001b[39;49m\u001b[43m,\u001b[49m\u001b[43m \u001b[49m\u001b[38;5;28;43;01mNone\u001b[39;49;00m\u001b[43m)\u001b[49m\u001b[43m,\u001b[49m\n\u001b[0;32m   1222\u001b[0m \u001b[43m    \u001b[49m\u001b[43mmemory_map\u001b[49m\u001b[38;5;241;43m=\u001b[39;49m\u001b[38;5;28;43mself\u001b[39;49m\u001b[38;5;241;43m.\u001b[39;49m\u001b[43moptions\u001b[49m\u001b[38;5;241;43m.\u001b[39;49m\u001b[43mget\u001b[49m\u001b[43m(\u001b[49m\u001b[38;5;124;43m\"\u001b[39;49m\u001b[38;5;124;43mmemory_map\u001b[39;49m\u001b[38;5;124;43m\"\u001b[39;49m\u001b[43m,\u001b[49m\u001b[43m \u001b[49m\u001b[38;5;28;43;01mFalse\u001b[39;49;00m\u001b[43m)\u001b[49m\u001b[43m,\u001b[49m\n\u001b[0;32m   1223\u001b[0m \u001b[43m    \u001b[49m\u001b[43mis_text\u001b[49m\u001b[38;5;241;43m=\u001b[39;49m\u001b[43mis_text\u001b[49m\u001b[43m,\u001b[49m\n\u001b[0;32m   1224\u001b[0m \u001b[43m    \u001b[49m\u001b[43merrors\u001b[49m\u001b[38;5;241;43m=\u001b[39;49m\u001b[38;5;28;43mself\u001b[39;49m\u001b[38;5;241;43m.\u001b[39;49m\u001b[43moptions\u001b[49m\u001b[38;5;241;43m.\u001b[39;49m\u001b[43mget\u001b[49m\u001b[43m(\u001b[49m\u001b[38;5;124;43m\"\u001b[39;49m\u001b[38;5;124;43mencoding_errors\u001b[39;49m\u001b[38;5;124;43m\"\u001b[39;49m\u001b[43m,\u001b[49m\u001b[43m \u001b[49m\u001b[38;5;124;43m\"\u001b[39;49m\u001b[38;5;124;43mstrict\u001b[39;49m\u001b[38;5;124;43m\"\u001b[39;49m\u001b[43m)\u001b[49m\u001b[43m,\u001b[49m\n\u001b[0;32m   1225\u001b[0m \u001b[43m    \u001b[49m\u001b[43mstorage_options\u001b[49m\u001b[38;5;241;43m=\u001b[39;49m\u001b[38;5;28;43mself\u001b[39;49m\u001b[38;5;241;43m.\u001b[39;49m\u001b[43moptions\u001b[49m\u001b[38;5;241;43m.\u001b[39;49m\u001b[43mget\u001b[49m\u001b[43m(\u001b[49m\u001b[38;5;124;43m\"\u001b[39;49m\u001b[38;5;124;43mstorage_options\u001b[39;49m\u001b[38;5;124;43m\"\u001b[39;49m\u001b[43m,\u001b[49m\u001b[43m \u001b[49m\u001b[38;5;28;43;01mNone\u001b[39;49;00m\u001b[43m)\u001b[49m\u001b[43m,\u001b[49m\n\u001b[0;32m   1226\u001b[0m \u001b[43m\u001b[49m\u001b[43m)\u001b[49m\n\u001b[0;32m   1227\u001b[0m \u001b[38;5;28;01massert\u001b[39;00m \u001b[38;5;28mself\u001b[39m\u001b[38;5;241m.\u001b[39mhandles \u001b[38;5;129;01mis\u001b[39;00m \u001b[38;5;129;01mnot\u001b[39;00m \u001b[38;5;28;01mNone\u001b[39;00m\n\u001b[0;32m   1228\u001b[0m f \u001b[38;5;241m=\u001b[39m \u001b[38;5;28mself\u001b[39m\u001b[38;5;241m.\u001b[39mhandles\u001b[38;5;241m.\u001b[39mhandle\n",
      "File \u001b[1;32mC:\\Python310\\lib\\site-packages\\pandas\\io\\common.py:789\u001b[0m, in \u001b[0;36mget_handle\u001b[1;34m(path_or_buf, mode, encoding, compression, memory_map, is_text, errors, storage_options)\u001b[0m\n\u001b[0;32m    784\u001b[0m \u001b[38;5;28;01melif\u001b[39;00m \u001b[38;5;28misinstance\u001b[39m(handle, \u001b[38;5;28mstr\u001b[39m):\n\u001b[0;32m    785\u001b[0m     \u001b[38;5;66;03m# Check whether the filename is to be opened in binary mode.\u001b[39;00m\n\u001b[0;32m    786\u001b[0m     \u001b[38;5;66;03m# Binary mode does not support 'encoding' and 'newline'.\u001b[39;00m\n\u001b[0;32m    787\u001b[0m     \u001b[38;5;28;01mif\u001b[39;00m ioargs\u001b[38;5;241m.\u001b[39mencoding \u001b[38;5;129;01mand\u001b[39;00m \u001b[38;5;124m\"\u001b[39m\u001b[38;5;124mb\u001b[39m\u001b[38;5;124m\"\u001b[39m \u001b[38;5;129;01mnot\u001b[39;00m \u001b[38;5;129;01min\u001b[39;00m ioargs\u001b[38;5;241m.\u001b[39mmode:\n\u001b[0;32m    788\u001b[0m         \u001b[38;5;66;03m# Encoding\u001b[39;00m\n\u001b[1;32m--> 789\u001b[0m         handle \u001b[38;5;241m=\u001b[39m \u001b[38;5;28;43mopen\u001b[39;49m\u001b[43m(\u001b[49m\n\u001b[0;32m    790\u001b[0m \u001b[43m            \u001b[49m\u001b[43mhandle\u001b[49m\u001b[43m,\u001b[49m\n\u001b[0;32m    791\u001b[0m \u001b[43m            \u001b[49m\u001b[43mioargs\u001b[49m\u001b[38;5;241;43m.\u001b[39;49m\u001b[43mmode\u001b[49m\u001b[43m,\u001b[49m\n\u001b[0;32m    792\u001b[0m \u001b[43m            \u001b[49m\u001b[43mencoding\u001b[49m\u001b[38;5;241;43m=\u001b[39;49m\u001b[43mioargs\u001b[49m\u001b[38;5;241;43m.\u001b[39;49m\u001b[43mencoding\u001b[49m\u001b[43m,\u001b[49m\n\u001b[0;32m    793\u001b[0m \u001b[43m            \u001b[49m\u001b[43merrors\u001b[49m\u001b[38;5;241;43m=\u001b[39;49m\u001b[43merrors\u001b[49m\u001b[43m,\u001b[49m\n\u001b[0;32m    794\u001b[0m \u001b[43m            \u001b[49m\u001b[43mnewline\u001b[49m\u001b[38;5;241;43m=\u001b[39;49m\u001b[38;5;124;43m\"\u001b[39;49m\u001b[38;5;124;43m\"\u001b[39;49m\u001b[43m,\u001b[49m\n\u001b[0;32m    795\u001b[0m \u001b[43m        \u001b[49m\u001b[43m)\u001b[49m\n\u001b[0;32m    796\u001b[0m     \u001b[38;5;28;01melse\u001b[39;00m:\n\u001b[0;32m    797\u001b[0m         \u001b[38;5;66;03m# Binary mode\u001b[39;00m\n\u001b[0;32m    798\u001b[0m         handle \u001b[38;5;241m=\u001b[39m \u001b[38;5;28mopen\u001b[39m(handle, ioargs\u001b[38;5;241m.\u001b[39mmode)\n",
      "\u001b[1;31mFileNotFoundError\u001b[0m: [Errno 2] No such file or directory: 'bike-sharing/day.csv'"
     ]
    }
   ],
   "source": [
    "bike = pd.DataFrame(pd.read_csv(\"bike-sharing/day.csv\"))"
   ]
  },
  {
   "cell_type": "code",
   "execution_count": null,
   "metadata": {
    "execution": {
     "iopub.execute_input": "2022-01-22T13:16:18.885342Z",
     "iopub.status.busy": "2022-01-22T13:16:18.884651Z",
     "iopub.status.idle": "2022-01-22T13:16:18.903667Z",
     "shell.execute_reply": "2022-01-22T13:16:18.904233Z"
    },
    "papermill": {
     "duration": 0.114412,
     "end_time": "2022-01-22T13:16:18.904383",
     "exception": false,
     "start_time": "2022-01-22T13:16:18.789971",
     "status": "completed"
    },
    "tags": []
   },
   "outputs": [],
   "source": [
    "# Check the head of the dataset\n",
    "bike.head()"
   ]
  },
  {
   "cell_type": "code",
   "execution_count": null,
   "metadata": {
    "execution": {
     "iopub.execute_input": "2022-01-22T13:16:19.088567Z",
     "iopub.status.busy": "2022-01-22T13:16:19.087850Z",
     "iopub.status.idle": "2022-01-22T13:16:19.103812Z",
     "shell.execute_reply": "2022-01-22T13:16:19.104398Z"
    },
    "papermill": {
     "duration": 0.108407,
     "end_time": "2022-01-22T13:16:19.104555",
     "exception": false,
     "start_time": "2022-01-22T13:16:18.996148",
     "status": "completed"
    },
    "tags": []
   },
   "outputs": [],
   "source": [
    "# Check the descriptive information\n",
    "bike.info()"
   ]
  },
  {
   "cell_type": "code",
   "execution_count": null,
   "metadata": {
    "execution": {
     "iopub.execute_input": "2022-01-22T13:16:19.288946Z",
     "iopub.status.busy": "2022-01-22T13:16:19.288271Z",
     "iopub.status.idle": "2022-01-22T13:16:19.352034Z",
     "shell.execute_reply": "2022-01-22T13:16:19.351493Z"
    },
    "papermill": {
     "duration": 0.157148,
     "end_time": "2022-01-22T13:16:19.352173",
     "exception": false,
     "start_time": "2022-01-22T13:16:19.195025",
     "status": "completed"
    },
    "tags": []
   },
   "outputs": [],
   "source": [
    "bike.describe()"
   ]
  },
  {
   "cell_type": "code",
   "execution_count": null,
   "metadata": {
    "execution": {
     "iopub.execute_input": "2022-01-22T13:16:19.537844Z",
     "iopub.status.busy": "2022-01-22T13:16:19.537080Z",
     "iopub.status.idle": "2022-01-22T13:16:19.539699Z",
     "shell.execute_reply": "2022-01-22T13:16:19.540209Z"
    },
    "papermill": {
     "duration": 0.098192,
     "end_time": "2022-01-22T13:16:19.540362",
     "exception": false,
     "start_time": "2022-01-22T13:16:19.442170",
     "status": "completed"
    },
    "tags": []
   },
   "outputs": [],
   "source": [
    "# Check the shape of df\n",
    "\n",
    "print(bike.shape)"
   ]
  },
  {
   "cell_type": "markdown",
   "metadata": {
    "papermill": {
     "duration": 0.089902,
     "end_time": "2022-01-22T13:16:19.721091",
     "exception": false,
     "start_time": "2022-01-22T13:16:19.631189",
     "status": "completed"
    },
    "tags": []
   },
   "source": [
    "## Finding : \n",
    "Dataset has 730 rows and 16 columns.\n",
    "\n",
    "Except one column, all other are either float or integer type. \n",
    "\n",
    "One column is date type.\n",
    "\n",
    "Looking at the data, there seems to be some fields that are categorical in nature, but in integer/float type.\n",
    "\n",
    "We will analyse and finalize whether to convert them to categorical or treat as integer."
   ]
  },
  {
   "cell_type": "markdown",
   "metadata": {
    "papermill": {
     "duration": 0.096258,
     "end_time": "2022-01-22T13:16:19.919766",
     "exception": false,
     "start_time": "2022-01-22T13:16:19.823508",
     "status": "completed"
    },
    "tags": []
   },
   "source": [
    "# DATA QUALITY CHECK"
   ]
  },
  {
   "cell_type": "markdown",
   "metadata": {
    "papermill": {
     "duration": 0.092515,
     "end_time": "2022-01-22T13:16:20.104748",
     "exception": false,
     "start_time": "2022-01-22T13:16:20.012233",
     "status": "completed"
    },
    "tags": []
   },
   "source": [
    "## Check for NULL/MISSING values"
   ]
  },
  {
   "cell_type": "code",
   "execution_count": null,
   "metadata": {
    "execution": {
     "iopub.execute_input": "2022-01-22T13:16:20.308609Z",
     "iopub.status.busy": "2022-01-22T13:16:20.307833Z",
     "iopub.status.idle": "2022-01-22T13:16:20.336413Z",
     "shell.execute_reply": "2022-01-22T13:16:20.336992Z"
    },
    "papermill": {
     "duration": 0.139799,
     "end_time": "2022-01-22T13:16:20.337213",
     "exception": false,
     "start_time": "2022-01-22T13:16:20.197414",
     "status": "completed"
    },
    "tags": []
   },
   "outputs": [],
   "source": [
    "# percentage of missing values in each column\n",
    "round(100*(bike.isnull().sum()/len(bike)), 2).sort_values(ascending=False)"
   ]
  },
  {
   "cell_type": "code",
   "execution_count": null,
   "metadata": {
    "execution": {
     "iopub.execute_input": "2022-01-22T13:16:20.526945Z",
     "iopub.status.busy": "2022-01-22T13:16:20.526266Z",
     "iopub.status.idle": "2022-01-22T13:16:20.536370Z",
     "shell.execute_reply": "2022-01-22T13:16:20.536915Z"
    },
    "papermill": {
     "duration": 0.105163,
     "end_time": "2022-01-22T13:16:20.537058",
     "exception": false,
     "start_time": "2022-01-22T13:16:20.431895",
     "status": "completed"
    },
    "tags": []
   },
   "outputs": [],
   "source": [
    "# row-wise null count percentage\n",
    "round((bike.isnull().sum(axis=1)/len(bike))*100,2).sort_values(ascending=False)"
   ]
  },
  {
   "cell_type": "markdown",
   "metadata": {
    "papermill": {
     "duration": 0.099804,
     "end_time": "2022-01-22T13:16:20.729173",
     "exception": false,
     "start_time": "2022-01-22T13:16:20.629369",
     "status": "completed"
    },
    "tags": []
   },
   "source": [
    "## Finding\n",
    "There are no missing / Null values either in columns or rows"
   ]
  },
  {
   "cell_type": "markdown",
   "metadata": {
    "papermill": {
     "duration": 0.141028,
     "end_time": "2022-01-22T13:16:20.966375",
     "exception": false,
     "start_time": "2022-01-22T13:16:20.825347",
     "status": "completed"
    },
    "tags": []
   },
   "source": [
    "## Duplicate Check"
   ]
  },
  {
   "cell_type": "code",
   "execution_count": null,
   "metadata": {
    "execution": {
     "iopub.execute_input": "2022-01-22T13:16:21.154054Z",
     "iopub.status.busy": "2022-01-22T13:16:21.153380Z",
     "iopub.status.idle": "2022-01-22T13:16:21.167923Z",
     "shell.execute_reply": "2022-01-22T13:16:21.168508Z"
    },
    "papermill": {
     "duration": 0.110716,
     "end_time": "2022-01-22T13:16:21.168661",
     "exception": false,
     "start_time": "2022-01-22T13:16:21.057945",
     "status": "completed"
    },
    "tags": []
   },
   "outputs": [],
   "source": [
    "bike_dup = bike.copy()\n",
    "\n",
    "# Checking for duplicates and dropping the entire duplicate row if any\n",
    "bike_dup.drop_duplicates(subset=None, inplace=True)"
   ]
  },
  {
   "cell_type": "code",
   "execution_count": null,
   "metadata": {
    "execution": {
     "iopub.execute_input": "2022-01-22T13:16:21.361217Z",
     "iopub.status.busy": "2022-01-22T13:16:21.360530Z",
     "iopub.status.idle": "2022-01-22T13:16:21.363598Z",
     "shell.execute_reply": "2022-01-22T13:16:21.364154Z"
    },
    "papermill": {
     "duration": 0.100792,
     "end_time": "2022-01-22T13:16:21.364299",
     "exception": false,
     "start_time": "2022-01-22T13:16:21.263507",
     "status": "completed"
    },
    "tags": []
   },
   "outputs": [],
   "source": [
    "bike_dup.shape"
   ]
  },
  {
   "cell_type": "code",
   "execution_count": null,
   "metadata": {
    "execution": {
     "iopub.execute_input": "2022-01-22T13:16:21.553099Z",
     "iopub.status.busy": "2022-01-22T13:16:21.552451Z",
     "iopub.status.idle": "2022-01-22T13:16:21.557872Z",
     "shell.execute_reply": "2022-01-22T13:16:21.558415Z"
    },
    "papermill": {
     "duration": 0.102319,
     "end_time": "2022-01-22T13:16:21.558569",
     "exception": false,
     "start_time": "2022-01-22T13:16:21.456250",
     "status": "completed"
    },
    "tags": []
   },
   "outputs": [],
   "source": [
    "bike.shape"
   ]
  },
  {
   "cell_type": "markdown",
   "metadata": {
    "papermill": {
     "duration": 0.09659,
     "end_time": "2022-01-22T13:16:21.748564",
     "exception": false,
     "start_time": "2022-01-22T13:16:21.651974",
     "status": "completed"
    },
    "tags": []
   },
   "source": [
    "### Insights \n",
    "\n",
    "The shape after running the drop duplicate command is same as the original dataframe. \n",
    "\n",
    "Hence we can conclude that there were zero duplicate values in the dataset. "
   ]
  },
  {
   "cell_type": "markdown",
   "metadata": {
    "papermill": {
     "duration": 0.10256,
     "end_time": "2022-01-22T13:16:21.966609",
     "exception": false,
     "start_time": "2022-01-22T13:16:21.864049",
     "status": "completed"
    },
    "tags": []
   },
   "source": [
    "## Data Cleaning\n",
    "\n",
    "Checking value_counts() for entire dataframe. \n",
    "\n",
    "This will help to identify any Unknow/Junk values present in the dataset."
   ]
  },
  {
   "cell_type": "code",
   "execution_count": null,
   "metadata": {
    "execution": {
     "iopub.execute_input": "2022-01-22T13:16:22.162677Z",
     "iopub.status.busy": "2022-01-22T13:16:22.161916Z",
     "iopub.status.idle": "2022-01-22T13:16:22.164404Z",
     "shell.execute_reply": "2022-01-22T13:16:22.165070Z"
    },
    "papermill": {
     "duration": 0.101857,
     "end_time": "2022-01-22T13:16:22.165246",
     "exception": false,
     "start_time": "2022-01-22T13:16:22.063389",
     "status": "completed"
    },
    "tags": []
   },
   "outputs": [],
   "source": [
    "#Create a copy of the  dataframe, without the 'instant' column, \n",
    "\n",
    "#as this will have unique values, and donot make sense to do a value count on it.\n",
    "\n",
    "bike_dummy=bike.iloc[:,1:16]"
   ]
  },
  {
   "cell_type": "code",
   "execution_count": null,
   "metadata": {
    "execution": {
     "iopub.execute_input": "2022-01-22T13:16:22.357020Z",
     "iopub.status.busy": "2022-01-22T13:16:22.356299Z",
     "iopub.status.idle": "2022-01-22T13:16:22.395761Z",
     "shell.execute_reply": "2022-01-22T13:16:22.395061Z"
    },
    "papermill": {
     "duration": 0.135841,
     "end_time": "2022-01-22T13:16:22.395881",
     "exception": false,
     "start_time": "2022-01-22T13:16:22.260040",
     "status": "completed"
    },
    "tags": []
   },
   "outputs": [],
   "source": [
    "for col in bike_dummy:\n",
    "    print(bike_dummy[col].value_counts(ascending=False), '\\n\\n\\n')"
   ]
  },
  {
   "cell_type": "markdown",
   "metadata": {
    "papermill": {
     "duration": 0.094987,
     "end_time": "2022-01-22T13:16:22.585738",
     "exception": false,
     "start_time": "2022-01-22T13:16:22.490751",
     "status": "completed"
    },
    "tags": []
   },
   "source": [
    "### Insights \n",
    "There seems to be no Junk/Unknown values in the entire dataset."
   ]
  },
  {
   "cell_type": "markdown",
   "metadata": {
    "papermill": {
     "duration": 0.094395,
     "end_time": "2022-01-22T13:16:22.774506",
     "exception": false,
     "start_time": "2022-01-22T13:16:22.680111",
     "status": "completed"
    },
    "tags": []
   },
   "source": [
    "# Removing redundant & unwanted columns"
   ]
  },
  {
   "cell_type": "markdown",
   "metadata": {
    "papermill": {
     "duration": 0.09485,
     "end_time": "2022-01-22T13:16:22.966627",
     "exception": false,
     "start_time": "2022-01-22T13:16:22.871777",
     "status": "completed"
    },
    "tags": []
   },
   "source": [
    "Based on the high level look at the data and the data dictionary, the following variables can be removed from further analysis:\n",
    "\n",
    "1. **instant** : Its only an index value\n",
    "\n",
    "2. **dteday** : This has the date, Since we already have seperate columns for 'year' & 'month',hence, we could live without this column. \n",
    "\n",
    "3.  **casual & registered** : Both these columns contains the count of bike booked by different categories of customers.\n",
    "Since our objective is to find the total count of bikes and not by specific category, we will ignore these two columns.\n",
    "More over, we have created a new variable to have the ratio of these customer types.\n",
    "\n",
    "4.  We will save the new dataframe as bike_new, so that the original dataset is preserved for any future analysis/validation"
   ]
  },
  {
   "cell_type": "code",
   "execution_count": null,
   "metadata": {
    "execution": {
     "iopub.execute_input": "2022-01-22T13:16:23.160299Z",
     "iopub.status.busy": "2022-01-22T13:16:23.159284Z",
     "iopub.status.idle": "2022-01-22T13:16:23.165308Z",
     "shell.execute_reply": "2022-01-22T13:16:23.165864Z"
    },
    "papermill": {
     "duration": 0.105717,
     "end_time": "2022-01-22T13:16:23.166010",
     "exception": false,
     "start_time": "2022-01-22T13:16:23.060293",
     "status": "completed"
    },
    "tags": []
   },
   "outputs": [],
   "source": [
    "bike.columns"
   ]
  },
  {
   "cell_type": "code",
   "execution_count": null,
   "metadata": {
    "execution": {
     "iopub.execute_input": "2022-01-22T13:16:23.360314Z",
     "iopub.status.busy": "2022-01-22T13:16:23.359300Z",
     "iopub.status.idle": "2022-01-22T13:16:23.365693Z",
     "shell.execute_reply": "2022-01-22T13:16:23.366291Z"
    },
    "papermill": {
     "duration": 0.10477,
     "end_time": "2022-01-22T13:16:23.366443",
     "exception": false,
     "start_time": "2022-01-22T13:16:23.261673",
     "status": "completed"
    },
    "tags": []
   },
   "outputs": [],
   "source": [
    "bike_new=bike[['season', 'yr', 'mnth', 'holiday', 'weekday',\n",
    "       'workingday', 'weathersit', 'temp', 'atemp', 'hum', 'windspeed',\n",
    "       'cnt']]\n"
   ]
  },
  {
   "cell_type": "code",
   "execution_count": null,
   "metadata": {
    "execution": {
     "iopub.execute_input": "2022-01-22T13:16:23.561476Z",
     "iopub.status.busy": "2022-01-22T13:16:23.560465Z",
     "iopub.status.idle": "2022-01-22T13:16:23.571941Z",
     "shell.execute_reply": "2022-01-22T13:16:23.572489Z"
    },
    "papermill": {
     "duration": 0.110965,
     "end_time": "2022-01-22T13:16:23.572651",
     "exception": false,
     "start_time": "2022-01-22T13:16:23.461686",
     "status": "completed"
    },
    "tags": []
   },
   "outputs": [],
   "source": [
    "bike_new.info()"
   ]
  },
  {
   "cell_type": "markdown",
   "metadata": {
    "papermill": {
     "duration": 0.097464,
     "end_time": "2022-01-22T13:16:23.765652",
     "exception": false,
     "start_time": "2022-01-22T13:16:23.668188",
     "status": "completed"
    },
    "tags": []
   },
   "source": [
    "# Creating Dummy Variables"
   ]
  },
  {
   "cell_type": "markdown",
   "metadata": {
    "papermill": {
     "duration": 0.096841,
     "end_time": "2022-01-22T13:16:23.957585",
     "exception": false,
     "start_time": "2022-01-22T13:16:23.860744",
     "status": "completed"
    },
    "tags": []
   },
   "source": [
    "We will create DUMMY variables for 4 categorical variables 'mnth', 'weekday', 'season' & 'weathersit'. \n",
    "- Before creating dummy variables, we will have to convert them into 'category' data types."
   ]
  },
  {
   "cell_type": "code",
   "execution_count": null,
   "metadata": {
    "execution": {
     "iopub.execute_input": "2022-01-22T13:16:24.153444Z",
     "iopub.status.busy": "2022-01-22T13:16:24.152458Z",
     "iopub.status.idle": "2022-01-22T13:16:24.162549Z",
     "shell.execute_reply": "2022-01-22T13:16:24.163089Z"
    },
    "papermill": {
     "duration": 0.10895,
     "end_time": "2022-01-22T13:16:24.163257",
     "exception": false,
     "start_time": "2022-01-22T13:16:24.054307",
     "status": "completed"
    },
    "tags": []
   },
   "outputs": [],
   "source": [
    "# Check the datatypes before convertion\n",
    "bike_new.info()"
   ]
  },
  {
   "cell_type": "code",
   "execution_count": null,
   "metadata": {
    "execution": {
     "iopub.execute_input": "2022-01-22T13:16:24.361357Z",
     "iopub.status.busy": "2022-01-22T13:16:24.360645Z",
     "iopub.status.idle": "2022-01-22T13:16:24.370527Z",
     "shell.execute_reply": "2022-01-22T13:16:24.371037Z"
    },
    "papermill": {
     "duration": 0.11064,
     "end_time": "2022-01-22T13:16:24.371225",
     "exception": false,
     "start_time": "2022-01-22T13:16:24.260585",
     "status": "completed"
    },
    "tags": []
   },
   "outputs": [],
   "source": [
    "# Convert to 'category' data type\n",
    "\n",
    "bike_new['season']=bike_new['season'].astype('category')\n",
    "bike_new['weathersit']=bike_new['weathersit'].astype('category')\n",
    "bike_new['mnth']=bike_new['mnth'].astype('category')\n",
    "bike_new['weekday']=bike_new['weekday'].astype('category')\n"
   ]
  },
  {
   "cell_type": "code",
   "execution_count": null,
   "metadata": {
    "execution": {
     "iopub.execute_input": "2022-01-22T13:16:24.570895Z",
     "iopub.status.busy": "2022-01-22T13:16:24.570217Z",
     "iopub.status.idle": "2022-01-22T13:16:24.580254Z",
     "shell.execute_reply": "2022-01-22T13:16:24.580729Z"
    },
    "papermill": {
     "duration": 0.11226,
     "end_time": "2022-01-22T13:16:24.580884",
     "exception": false,
     "start_time": "2022-01-22T13:16:24.468624",
     "status": "completed"
    },
    "tags": []
   },
   "outputs": [],
   "source": [
    "bike_new.info()"
   ]
  },
  {
   "cell_type": "code",
   "execution_count": null,
   "metadata": {
    "execution": {
     "iopub.execute_input": "2022-01-22T13:16:24.780401Z",
     "iopub.status.busy": "2022-01-22T13:16:24.777774Z",
     "iopub.status.idle": "2022-01-22T13:16:24.808000Z",
     "shell.execute_reply": "2022-01-22T13:16:24.808677Z"
    },
    "papermill": {
     "duration": 0.131981,
     "end_time": "2022-01-22T13:16:24.808834",
     "exception": false,
     "start_time": "2022-01-22T13:16:24.676853",
     "status": "completed"
    },
    "tags": []
   },
   "outputs": [],
   "source": [
    "# This code does 3 things:\n",
    "# 1) Create Dummy variable\n",
    "# 2) Drop original variable for which the dummy was created\n",
    "# 3) Drop first dummy variable for each set of dummies created.\n",
    "\n",
    "bike_new = pd.get_dummies(bike_new, drop_first=True)\n",
    "bike_new.info()"
   ]
  },
  {
   "cell_type": "code",
   "execution_count": null,
   "metadata": {
    "execution": {
     "iopub.execute_input": "2022-01-22T13:16:25.007485Z",
     "iopub.status.busy": "2022-01-22T13:16:25.006722Z",
     "iopub.status.idle": "2022-01-22T13:16:25.011487Z",
     "shell.execute_reply": "2022-01-22T13:16:25.012144Z"
    },
    "papermill": {
     "duration": 0.105515,
     "end_time": "2022-01-22T13:16:25.012298",
     "exception": false,
     "start_time": "2022-01-22T13:16:24.906783",
     "status": "completed"
    },
    "tags": []
   },
   "outputs": [],
   "source": [
    "bike_new.shape"
   ]
  },
  {
   "cell_type": "markdown",
   "metadata": {
    "papermill": {
     "duration": 0.099241,
     "end_time": "2022-01-22T13:16:25.209810",
     "exception": false,
     "start_time": "2022-01-22T13:16:25.110569",
     "status": "completed"
    },
    "tags": []
   },
   "source": [
    "## SPLITTING THE DATA\n",
    "- Splitting the data to Train and Test: - We will now split the data into TRAIN and TEST (70:30 ratio) \n",
    "- We will use train_test_split method from sklearn package for this"
   ]
  },
  {
   "cell_type": "code",
   "execution_count": null,
   "metadata": {
    "execution": {
     "iopub.execute_input": "2022-01-22T13:16:25.409038Z",
     "iopub.status.busy": "2022-01-22T13:16:25.408328Z",
     "iopub.status.idle": "2022-01-22T13:16:25.413016Z",
     "shell.execute_reply": "2022-01-22T13:16:25.413657Z"
    },
    "papermill": {
     "duration": 0.106183,
     "end_time": "2022-01-22T13:16:25.413808",
     "exception": false,
     "start_time": "2022-01-22T13:16:25.307625",
     "status": "completed"
    },
    "tags": []
   },
   "outputs": [],
   "source": [
    "# Check the shape before spliting\n",
    "\n",
    "bike_new.shape"
   ]
  },
  {
   "cell_type": "code",
   "execution_count": null,
   "metadata": {
    "execution": {
     "iopub.execute_input": "2022-01-22T13:16:25.612894Z",
     "iopub.status.busy": "2022-01-22T13:16:25.612233Z",
     "iopub.status.idle": "2022-01-22T13:16:25.626582Z",
     "shell.execute_reply": "2022-01-22T13:16:25.627099Z"
    },
    "papermill": {
     "duration": 0.115387,
     "end_time": "2022-01-22T13:16:25.627268",
     "exception": false,
     "start_time": "2022-01-22T13:16:25.511881",
     "status": "completed"
    },
    "tags": []
   },
   "outputs": [],
   "source": [
    "# Check the info before spliting\n",
    "\n",
    "bike_new.info()"
   ]
  },
  {
   "cell_type": "code",
   "execution_count": null,
   "metadata": {
    "execution": {
     "iopub.execute_input": "2022-01-22T13:16:25.830454Z",
     "iopub.status.busy": "2022-01-22T13:16:25.829810Z",
     "iopub.status.idle": "2022-01-22T13:16:25.949595Z",
     "shell.execute_reply": "2022-01-22T13:16:25.948846Z"
    },
    "papermill": {
     "duration": 0.222065,
     "end_time": "2022-01-22T13:16:25.949725",
     "exception": false,
     "start_time": "2022-01-22T13:16:25.727660",
     "status": "completed"
    },
    "tags": []
   },
   "outputs": [],
   "source": [
    "from sklearn.model_selection import train_test_split\n",
    "\n",
    "# We should specify 'random_state' so that the train and test data set always have the same rows, respectively\n",
    "\n",
    "np.random.seed(0)\n",
    "df_train, df_test = train_test_split(bike_new, train_size = 0.70, test_size = 0.30, random_state = 333)"
   ]
  },
  {
   "cell_type": "markdown",
   "metadata": {
    "papermill": {
     "duration": 0.100189,
     "end_time": "2022-01-22T13:16:26.150213",
     "exception": false,
     "start_time": "2022-01-22T13:16:26.050024",
     "status": "completed"
    },
    "tags": []
   },
   "source": [
    "\n",
    "- Verify the info and shape of the dataframes after split:"
   ]
  },
  {
   "cell_type": "code",
   "execution_count": null,
   "metadata": {
    "execution": {
     "iopub.execute_input": "2022-01-22T13:16:26.363890Z",
     "iopub.status.busy": "2022-01-22T13:16:26.357636Z",
     "iopub.status.idle": "2022-01-22T13:16:26.372741Z",
     "shell.execute_reply": "2022-01-22T13:16:26.372033Z"
    },
    "papermill": {
     "duration": 0.123142,
     "end_time": "2022-01-22T13:16:26.372861",
     "exception": false,
     "start_time": "2022-01-22T13:16:26.249719",
     "status": "completed"
    },
    "tags": []
   },
   "outputs": [],
   "source": [
    "df_train.info()"
   ]
  },
  {
   "cell_type": "code",
   "execution_count": null,
   "metadata": {
    "execution": {
     "iopub.execute_input": "2022-01-22T13:16:26.575987Z",
     "iopub.status.busy": "2022-01-22T13:16:26.575174Z",
     "iopub.status.idle": "2022-01-22T13:16:26.578977Z",
     "shell.execute_reply": "2022-01-22T13:16:26.578333Z"
    },
    "papermill": {
     "duration": 0.107913,
     "end_time": "2022-01-22T13:16:26.579094",
     "exception": false,
     "start_time": "2022-01-22T13:16:26.471181",
     "status": "completed"
    },
    "tags": []
   },
   "outputs": [],
   "source": [
    "df_train.shape"
   ]
  },
  {
   "cell_type": "code",
   "execution_count": null,
   "metadata": {
    "execution": {
     "iopub.execute_input": "2022-01-22T13:16:26.785431Z",
     "iopub.status.busy": "2022-01-22T13:16:26.784728Z",
     "iopub.status.idle": "2022-01-22T13:16:26.799648Z",
     "shell.execute_reply": "2022-01-22T13:16:26.800136Z"
    },
    "papermill": {
     "duration": 0.120356,
     "end_time": "2022-01-22T13:16:26.800305",
     "exception": false,
     "start_time": "2022-01-22T13:16:26.679949",
     "status": "completed"
    },
    "tags": []
   },
   "outputs": [],
   "source": [
    "df_test.info()"
   ]
  },
  {
   "cell_type": "code",
   "execution_count": null,
   "metadata": {
    "execution": {
     "iopub.execute_input": "2022-01-22T13:16:27.007929Z",
     "iopub.status.busy": "2022-01-22T13:16:27.007232Z",
     "iopub.status.idle": "2022-01-22T13:16:27.012415Z",
     "shell.execute_reply": "2022-01-22T13:16:27.012900Z"
    },
    "papermill": {
     "duration": 0.11197,
     "end_time": "2022-01-22T13:16:27.013066",
     "exception": false,
     "start_time": "2022-01-22T13:16:26.901096",
     "status": "completed"
    },
    "tags": []
   },
   "outputs": [],
   "source": [
    "df_test.shape"
   ]
  },
  {
   "cell_type": "markdown",
   "metadata": {
    "papermill": {
     "duration": 0.099974,
     "end_time": "2022-01-22T13:16:27.215320",
     "exception": false,
     "start_time": "2022-01-22T13:16:27.115346",
     "status": "completed"
    },
    "tags": []
   },
   "source": [
    "# EXPLORATORY DATA ANALYSIS"
   ]
  },
  {
   "cell_type": "markdown",
   "metadata": {
    "papermill": {
     "duration": 0.099346,
     "end_time": "2022-01-22T13:16:27.415602",
     "exception": false,
     "start_time": "2022-01-22T13:16:27.316256",
     "status": "completed"
    },
    "tags": []
   },
   "source": [
    "\n",
    "- We need to  perform the EDA on TRAINING (df_train) Dataset."
   ]
  },
  {
   "cell_type": "markdown",
   "metadata": {
    "papermill": {
     "duration": 0.100334,
     "end_time": "2022-01-22T13:16:27.616415",
     "exception": false,
     "start_time": "2022-01-22T13:16:27.516081",
     "status": "completed"
    },
    "tags": []
   },
   "source": [
    "## Visualising Numeric Variables\n",
    "Let's make a pairplot of all the numeric variables."
   ]
  },
  {
   "cell_type": "code",
   "execution_count": null,
   "metadata": {
    "execution": {
     "iopub.execute_input": "2022-01-22T13:16:27.822084Z",
     "iopub.status.busy": "2022-01-22T13:16:27.821056Z",
     "iopub.status.idle": "2022-01-22T13:16:27.836391Z",
     "shell.execute_reply": "2022-01-22T13:16:27.836919Z"
    },
    "papermill": {
     "duration": 0.119546,
     "end_time": "2022-01-22T13:16:27.837080",
     "exception": false,
     "start_time": "2022-01-22T13:16:27.717534",
     "status": "completed"
    },
    "tags": []
   },
   "outputs": [],
   "source": [
    "df_train.info()"
   ]
  },
  {
   "cell_type": "code",
   "execution_count": null,
   "metadata": {
    "execution": {
     "iopub.execute_input": "2022-01-22T13:16:28.047676Z",
     "iopub.status.busy": "2022-01-22T13:16:28.046672Z",
     "iopub.status.idle": "2022-01-22T13:16:28.052902Z",
     "shell.execute_reply": "2022-01-22T13:16:28.053516Z"
    },
    "papermill": {
     "duration": 0.114705,
     "end_time": "2022-01-22T13:16:28.053671",
     "exception": false,
     "start_time": "2022-01-22T13:16:27.938966",
     "status": "completed"
    },
    "tags": []
   },
   "outputs": [],
   "source": [
    "df_train.columns"
   ]
  },
  {
   "cell_type": "code",
   "execution_count": null,
   "metadata": {
    "execution": {
     "iopub.execute_input": "2022-01-22T13:16:28.266613Z",
     "iopub.status.busy": "2022-01-22T13:16:28.265931Z",
     "iopub.status.idle": "2022-01-22T13:16:34.923512Z",
     "shell.execute_reply": "2022-01-22T13:16:34.924036Z"
    },
    "papermill": {
     "duration": 6.76767,
     "end_time": "2022-01-22T13:16:34.924199",
     "exception": false,
     "start_time": "2022-01-22T13:16:28.156529",
     "status": "completed"
    },
    "tags": []
   },
   "outputs": [],
   "source": [
    "# Create a new dataframe of only numeric variables:\n",
    "\n",
    "bike_num=df_train[[ 'temp', 'atemp', 'hum', 'windspeed','cnt']]\n",
    "\n",
    "sns.pairplot(bike_num, diag_kind='kde')\n",
    "plt.show()"
   ]
  },
  {
   "cell_type": "markdown",
   "metadata": {
    "papermill": {
     "duration": 0.111485,
     "end_time": "2022-01-22T13:16:35.149168",
     "exception": false,
     "start_time": "2022-01-22T13:16:35.037683",
     "status": "completed"
    },
    "tags": []
   },
   "source": [
    "### Insights\n",
    "- The above Pair-Plot tells us that there is a LINEAR RELATION between 'temp','atemp' and 'cnt' "
   ]
  },
  {
   "cell_type": "markdown",
   "metadata": {
    "papermill": {
     "duration": 0.114965,
     "end_time": "2022-01-22T13:16:35.378806",
     "exception": false,
     "start_time": "2022-01-22T13:16:35.263841",
     "status": "completed"
    },
    "tags": []
   },
   "source": [
    "## Visualising Catagorical Variables"
   ]
  },
  {
   "cell_type": "code",
   "execution_count": null,
   "metadata": {
    "execution": {
     "iopub.execute_input": "2022-01-22T13:16:35.604884Z",
     "iopub.status.busy": "2022-01-22T13:16:35.604159Z",
     "iopub.status.idle": "2022-01-22T13:16:35.619687Z",
     "shell.execute_reply": "2022-01-22T13:16:35.620308Z"
    },
    "papermill": {
     "duration": 0.132036,
     "end_time": "2022-01-22T13:16:35.620470",
     "exception": false,
     "start_time": "2022-01-22T13:16:35.488434",
     "status": "completed"
    },
    "tags": []
   },
   "outputs": [],
   "source": [
    "df_train.info()"
   ]
  },
  {
   "cell_type": "code",
   "execution_count": null,
   "metadata": {
    "execution": {
     "iopub.execute_input": "2022-01-22T13:16:35.850431Z",
     "iopub.status.busy": "2022-01-22T13:16:35.849709Z",
     "iopub.status.idle": "2022-01-22T13:16:36.996089Z",
     "shell.execute_reply": "2022-01-22T13:16:36.995489Z"
    },
    "papermill": {
     "duration": 1.262997,
     "end_time": "2022-01-22T13:16:36.996224",
     "exception": false,
     "start_time": "2022-01-22T13:16:35.733227",
     "status": "completed"
    },
    "tags": []
   },
   "outputs": [],
   "source": [
    "# Build boxplot of all categorical variables (before creating dummies) againt the target variable 'cnt' \n",
    "# to see how each of the predictor variable stackup against the target variable.\n",
    "\n",
    "plt.figure(figsize=(25, 10))\n",
    "plt.subplot(2,3,1)\n",
    "sns.boxplot(x = 'season', y = 'cnt', data = bike)\n",
    "plt.subplot(2,3,2)\n",
    "sns.boxplot(x = 'mnth', y = 'cnt', data = bike)\n",
    "plt.subplot(2,3,3)\n",
    "sns.boxplot(x = 'weathersit', y = 'cnt', data = bike)\n",
    "plt.subplot(2,3,4)\n",
    "sns.boxplot(x = 'holiday', y = 'cnt', data = bike)\n",
    "plt.subplot(2,3,5)\n",
    "sns.boxplot(x = 'weekday', y = 'cnt', data = bike)\n",
    "plt.subplot(2,3,6)\n",
    "sns.boxplot(x = 'workingday', y = 'cnt', data = bike)\n",
    "plt.show()"
   ]
  },
  {
   "cell_type": "markdown",
   "metadata": {
    "papermill": {
     "duration": 0.13549,
     "end_time": "2022-01-22T13:16:37.261667",
     "exception": false,
     "start_time": "2022-01-22T13:16:37.126177",
     "status": "completed"
    },
    "tags": []
   },
   "source": [
    "### Insights\n",
    "There were 6 categorical variables in the dataset. \n",
    "\n",
    "We used Box plot (refer the fig above) to study their effect on the dependent variable (‘cnt’) . \n",
    "\n",
    "The inference that We could derive were: \n",
    "- **season**: Almost 32% of the bike booking were happening in season3 with a median of over 5000 booking (for the period of 2 years). This was followed by season2 & season4 with 27% & 25% of total booking. This indicates, season can be a good predictor for the dependent variable.\n",
    "\n",
    "- **mnth**: Almost 10% of the bike booking were happening in the months 5,6,7,8 & 9 with a median of over 4000 booking per month. This indicates, mnth has some trend for bookings and can be a good predictor for the dependent variable. \n",
    "- **weathersit**: Almost 67% of the bike booking were happening during ‘weathersit1 with a median of close to 5000 booking (for the period of 2 years). This was followed by weathersit2 with 30% of total booking. This indicates, weathersit does show some trend towards the bike bookings can be a good predictor for the dependent variable.\n",
    "- **holiday**: Almost 97.6% of the bike booking were happening when it is not a holiday which means this data is clearly biased. This indicates, holiday CANNOT be a good predictor for the dependent variable. \n",
    "- **weekday**: weekday variable shows very close trend (between 13.5%-14.8% of total booking on all days of the week) having their independent medians between 4000 to 5000 bookings. This variable can have some or no influence towards the predictor. I will let the model decide if this needs to be added or not.\n",
    "- **workingday**: Almost 69% of the bike booking were happening in ‘workingday’ with a median of close to 5000 booking (for the period of 2 years). This indicates, workingday can be a good predictor for the dependent variable"
   ]
  },
  {
   "cell_type": "markdown",
   "metadata": {
    "papermill": {
     "duration": 0.141779,
     "end_time": "2022-01-22T13:16:37.526734",
     "exception": false,
     "start_time": "2022-01-22T13:16:37.384955",
     "status": "completed"
    },
    "tags": []
   },
   "source": [
    "## Correlation Matrix"
   ]
  },
  {
   "cell_type": "code",
   "execution_count": null,
   "metadata": {
    "execution": {
     "iopub.execute_input": "2022-01-22T13:16:37.757244Z",
     "iopub.status.busy": "2022-01-22T13:16:37.756545Z",
     "iopub.status.idle": "2022-01-22T13:16:41.038082Z",
     "shell.execute_reply": "2022-01-22T13:16:41.038616Z"
    },
    "papermill": {
     "duration": 3.398952,
     "end_time": "2022-01-22T13:16:41.038764",
     "exception": false,
     "start_time": "2022-01-22T13:16:37.639812",
     "status": "completed"
    },
    "tags": []
   },
   "outputs": [],
   "source": [
    "# Let's check the correlation coefficients to see which variables are highly correlated. Note:\n",
    "# here we are considering only those variables (dataframe: bike_new) that were chosen for analysis\n",
    "\n",
    "plt.figure(figsize = (25,20))\n",
    "sns.heatmap(bike_new.corr(), annot = True, cmap=\"RdBu\")\n",
    "plt.show()"
   ]
  },
  {
   "cell_type": "markdown",
   "metadata": {
    "papermill": {
     "duration": 0.122523,
     "end_time": "2022-01-22T13:16:41.286527",
     "exception": false,
     "start_time": "2022-01-22T13:16:41.164004",
     "status": "completed"
    },
    "tags": []
   },
   "source": [
    "### Insights:\n",
    " - The heatmap clearly shows which all variable are multicollinear in nature, and which variable have high collinearity with the target variable.\n",
    " - We will refer this map back-and-forth while building the linear model so as to validate different correlated values along with VIF & p-value, for identifying the correct variable to select/eliminate from the model."
   ]
  },
  {
   "cell_type": "markdown",
   "metadata": {
    "papermill": {
     "duration": 0.121603,
     "end_time": "2022-01-22T13:16:41.529296",
     "exception": false,
     "start_time": "2022-01-22T13:16:41.407693",
     "status": "completed"
    },
    "tags": []
   },
   "source": [
    "# RESCALING THE FEATURES"
   ]
  },
  {
   "cell_type": "code",
   "execution_count": null,
   "metadata": {
    "execution": {
     "iopub.execute_input": "2022-01-22T13:16:41.779773Z",
     "iopub.status.busy": "2022-01-22T13:16:41.778942Z",
     "iopub.status.idle": "2022-01-22T13:16:41.781918Z",
     "shell.execute_reply": "2022-01-22T13:16:41.781399Z"
    },
    "papermill": {
     "duration": 0.130635,
     "end_time": "2022-01-22T13:16:41.782044",
     "exception": false,
     "start_time": "2022-01-22T13:16:41.651409",
     "status": "completed"
    },
    "tags": []
   },
   "outputs": [],
   "source": [
    "from sklearn.preprocessing import MinMaxScaler"
   ]
  },
  {
   "cell_type": "code",
   "execution_count": null,
   "metadata": {
    "execution": {
     "iopub.execute_input": "2022-01-22T13:16:42.034188Z",
     "iopub.status.busy": "2022-01-22T13:16:42.033243Z",
     "iopub.status.idle": "2022-01-22T13:16:42.036082Z",
     "shell.execute_reply": "2022-01-22T13:16:42.035554Z"
    },
    "papermill": {
     "duration": 0.132286,
     "end_time": "2022-01-22T13:16:42.036242",
     "exception": false,
     "start_time": "2022-01-22T13:16:41.903956",
     "status": "completed"
    },
    "tags": []
   },
   "outputs": [],
   "source": [
    "scaler = MinMaxScaler()"
   ]
  },
  {
   "cell_type": "code",
   "execution_count": null,
   "metadata": {
    "execution": {
     "iopub.execute_input": "2022-01-22T13:16:42.297408Z",
     "iopub.status.busy": "2022-01-22T13:16:42.292196Z",
     "iopub.status.idle": "2022-01-22T13:16:42.312929Z",
     "shell.execute_reply": "2022-01-22T13:16:42.312245Z"
    },
    "papermill": {
     "duration": 0.152547,
     "end_time": "2022-01-22T13:16:42.313049",
     "exception": false,
     "start_time": "2022-01-22T13:16:42.160502",
     "status": "completed"
    },
    "tags": []
   },
   "outputs": [],
   "source": [
    "# Checking the values before scaling\n",
    "df_train.head()"
   ]
  },
  {
   "cell_type": "code",
   "execution_count": null,
   "metadata": {
    "execution": {
     "iopub.execute_input": "2022-01-22T13:16:42.569133Z",
     "iopub.status.busy": "2022-01-22T13:16:42.568449Z",
     "iopub.status.idle": "2022-01-22T13:16:42.572756Z",
     "shell.execute_reply": "2022-01-22T13:16:42.573307Z"
    },
    "papermill": {
     "duration": 0.133881,
     "end_time": "2022-01-22T13:16:42.573453",
     "exception": false,
     "start_time": "2022-01-22T13:16:42.439572",
     "status": "completed"
    },
    "tags": []
   },
   "outputs": [],
   "source": [
    "df_train.columns"
   ]
  },
  {
   "cell_type": "code",
   "execution_count": null,
   "metadata": {
    "execution": {
     "iopub.execute_input": "2022-01-22T13:16:42.832330Z",
     "iopub.status.busy": "2022-01-22T13:16:42.831618Z",
     "iopub.status.idle": "2022-01-22T13:16:42.840008Z",
     "shell.execute_reply": "2022-01-22T13:16:42.839428Z"
    },
    "papermill": {
     "duration": 0.142934,
     "end_time": "2022-01-22T13:16:42.840150",
     "exception": false,
     "start_time": "2022-01-22T13:16:42.697216",
     "status": "completed"
    },
    "tags": []
   },
   "outputs": [],
   "source": [
    "# Apply scaler() to all the numeric variables\n",
    "\n",
    "num_vars = ['temp', 'atemp', 'hum', 'windspeed','cnt']\n",
    "\n",
    "df_train[num_vars] = scaler.fit_transform(df_train[num_vars])"
   ]
  },
  {
   "cell_type": "code",
   "execution_count": null,
   "metadata": {
    "execution": {
     "iopub.execute_input": "2022-01-22T13:16:43.097149Z",
     "iopub.status.busy": "2022-01-22T13:16:43.096464Z",
     "iopub.status.idle": "2022-01-22T13:16:43.116917Z",
     "shell.execute_reply": "2022-01-22T13:16:43.117491Z"
    },
    "papermill": {
     "duration": 0.152301,
     "end_time": "2022-01-22T13:16:43.117643",
     "exception": false,
     "start_time": "2022-01-22T13:16:42.965342",
     "status": "completed"
    },
    "tags": []
   },
   "outputs": [],
   "source": [
    "# Checking values after scaling\n",
    "df_train.head()"
   ]
  },
  {
   "cell_type": "code",
   "execution_count": null,
   "metadata": {
    "execution": {
     "iopub.execute_input": "2022-01-22T13:16:43.371858Z",
     "iopub.status.busy": "2022-01-22T13:16:43.371154Z",
     "iopub.status.idle": "2022-01-22T13:16:43.467863Z",
     "shell.execute_reply": "2022-01-22T13:16:43.467305Z"
    },
    "papermill": {
     "duration": 0.225844,
     "end_time": "2022-01-22T13:16:43.467992",
     "exception": false,
     "start_time": "2022-01-22T13:16:43.242148",
     "status": "completed"
    },
    "tags": []
   },
   "outputs": [],
   "source": [
    "df_train.describe()"
   ]
  },
  {
   "cell_type": "markdown",
   "metadata": {
    "papermill": {
     "duration": 0.125083,
     "end_time": "2022-01-22T13:16:43.719171",
     "exception": false,
     "start_time": "2022-01-22T13:16:43.594088",
     "status": "completed"
    },
    "tags": []
   },
   "source": [
    "# BUILDING A LINEAR MODEL"
   ]
  },
  {
   "cell_type": "markdown",
   "metadata": {
    "papermill": {
     "duration": 0.131005,
     "end_time": "2022-01-22T13:16:43.999022",
     "exception": false,
     "start_time": "2022-01-22T13:16:43.868017",
     "status": "completed"
    },
    "tags": []
   },
   "source": [
    "## Dividing into X and Y sets for the model building"
   ]
  },
  {
   "cell_type": "code",
   "execution_count": null,
   "metadata": {
    "execution": {
     "iopub.execute_input": "2022-01-22T13:16:44.258728Z",
     "iopub.status.busy": "2022-01-22T13:16:44.255818Z",
     "iopub.status.idle": "2022-01-22T13:16:44.261085Z",
     "shell.execute_reply": "2022-01-22T13:16:44.261756Z"
    },
    "papermill": {
     "duration": 0.136099,
     "end_time": "2022-01-22T13:16:44.261915",
     "exception": false,
     "start_time": "2022-01-22T13:16:44.125816",
     "status": "completed"
    },
    "tags": []
   },
   "outputs": [],
   "source": [
    "y_train = df_train.pop('cnt')\n",
    "X_train = df_train"
   ]
  },
  {
   "cell_type": "markdown",
   "metadata": {
    "papermill": {
     "duration": 0.127363,
     "end_time": "2022-01-22T13:16:44.517895",
     "exception": false,
     "start_time": "2022-01-22T13:16:44.390532",
     "status": "completed"
    },
    "tags": []
   },
   "source": [
    "### RFE\n",
    "Recursive feature elimination: We will be using the **LinearRegression function from SciKit Learn**  for its compatibility with RFE (which is a utility from sklearn)"
   ]
  },
  {
   "cell_type": "code",
   "execution_count": null,
   "metadata": {
    "execution": {
     "iopub.execute_input": "2022-01-22T13:16:44.774396Z",
     "iopub.status.busy": "2022-01-22T13:16:44.773354Z",
     "iopub.status.idle": "2022-01-22T13:16:44.926218Z",
     "shell.execute_reply": "2022-01-22T13:16:44.926780Z"
    },
    "papermill": {
     "duration": 0.282218,
     "end_time": "2022-01-22T13:16:44.926929",
     "exception": false,
     "start_time": "2022-01-22T13:16:44.644711",
     "status": "completed"
    },
    "tags": []
   },
   "outputs": [],
   "source": [
    "# Importing RFE and LinearRegression\n",
    "from sklearn.feature_selection import RFE\n",
    "from sklearn.linear_model import LinearRegression"
   ]
  },
  {
   "cell_type": "code",
   "execution_count": null,
   "metadata": {
    "execution": {
     "iopub.execute_input": "2022-01-22T13:16:45.187213Z",
     "iopub.status.busy": "2022-01-22T13:16:45.186195Z",
     "iopub.status.idle": "2022-01-22T13:16:45.265024Z",
     "shell.execute_reply": "2022-01-22T13:16:45.264173Z"
    },
    "papermill": {
     "duration": 0.21199,
     "end_time": "2022-01-22T13:16:45.265181",
     "exception": false,
     "start_time": "2022-01-22T13:16:45.053191",
     "status": "completed"
    },
    "tags": []
   },
   "outputs": [],
   "source": [
    "# Running RFE with the output number of the variable equal to 15\n",
    "lm = LinearRegression()\n",
    "lm.fit(X_train, y_train)\n",
    "\n",
    "rfe = RFE(lm, 15)             # running RFE\n",
    "rfe = rfe.fit(X_train, y_train)"
   ]
  },
  {
   "cell_type": "code",
   "execution_count": null,
   "metadata": {
    "execution": {
     "iopub.execute_input": "2022-01-22T13:16:45.523461Z",
     "iopub.status.busy": "2022-01-22T13:16:45.522425Z",
     "iopub.status.idle": "2022-01-22T13:16:45.531548Z",
     "shell.execute_reply": "2022-01-22T13:16:45.532106Z"
    },
    "papermill": {
     "duration": 0.139296,
     "end_time": "2022-01-22T13:16:45.532279",
     "exception": false,
     "start_time": "2022-01-22T13:16:45.392983",
     "status": "completed"
    },
    "tags": []
   },
   "outputs": [],
   "source": [
    "list(zip(X_train.columns,rfe.support_,rfe.ranking_))"
   ]
  },
  {
   "cell_type": "code",
   "execution_count": null,
   "metadata": {
    "execution": {
     "iopub.execute_input": "2022-01-22T13:16:45.791055Z",
     "iopub.status.busy": "2022-01-22T13:16:45.790019Z",
     "iopub.status.idle": "2022-01-22T13:16:45.796734Z",
     "shell.execute_reply": "2022-01-22T13:16:45.797303Z"
    },
    "papermill": {
     "duration": 0.137454,
     "end_time": "2022-01-22T13:16:45.797448",
     "exception": false,
     "start_time": "2022-01-22T13:16:45.659994",
     "status": "completed"
    },
    "tags": []
   },
   "outputs": [],
   "source": [
    "col = X_train.columns[rfe.support_]\n",
    "col"
   ]
  },
  {
   "cell_type": "code",
   "execution_count": null,
   "metadata": {
    "execution": {
     "iopub.execute_input": "2022-01-22T13:16:46.059273Z",
     "iopub.status.busy": "2022-01-22T13:16:46.058152Z",
     "iopub.status.idle": "2022-01-22T13:16:46.065958Z",
     "shell.execute_reply": "2022-01-22T13:16:46.066626Z"
    },
    "papermill": {
     "duration": 0.139102,
     "end_time": "2022-01-22T13:16:46.066791",
     "exception": false,
     "start_time": "2022-01-22T13:16:45.927689",
     "status": "completed"
    },
    "tags": []
   },
   "outputs": [],
   "source": [
    "X_train.columns[~rfe.support_]"
   ]
  },
  {
   "cell_type": "code",
   "execution_count": null,
   "metadata": {
    "execution": {
     "iopub.execute_input": "2022-01-22T13:16:46.339630Z",
     "iopub.status.busy": "2022-01-22T13:16:46.338631Z",
     "iopub.status.idle": "2022-01-22T13:16:46.343951Z",
     "shell.execute_reply": "2022-01-22T13:16:46.344507Z"
    },
    "papermill": {
     "duration": 0.145068,
     "end_time": "2022-01-22T13:16:46.344657",
     "exception": false,
     "start_time": "2022-01-22T13:16:46.199589",
     "status": "completed"
    },
    "tags": []
   },
   "outputs": [],
   "source": [
    "# Creating X_test dataframe with RFE selected variables\n",
    "X_train_rfe = X_train[col]"
   ]
  },
  {
   "cell_type": "markdown",
   "metadata": {
    "papermill": {
     "duration": 0.127713,
     "end_time": "2022-01-22T13:16:46.599773",
     "exception": false,
     "start_time": "2022-01-22T13:16:46.472060",
     "status": "completed"
    },
    "tags": []
   },
   "source": [
    "# Building Linear Model using 'STATS MODEL'"
   ]
  },
  {
   "cell_type": "markdown",
   "metadata": {
    "papermill": {
     "duration": 0.128955,
     "end_time": "2022-01-22T13:16:46.856360",
     "exception": false,
     "start_time": "2022-01-22T13:16:46.727405",
     "status": "completed"
    },
    "tags": []
   },
   "source": [
    "## Model 1"
   ]
  },
  {
   "cell_type": "markdown",
   "metadata": {
    "papermill": {
     "duration": 0.129741,
     "end_time": "2022-01-22T13:16:47.116101",
     "exception": false,
     "start_time": "2022-01-22T13:16:46.986360",
     "status": "completed"
    },
    "tags": []
   },
   "source": [
    "### VIF Check"
   ]
  },
  {
   "cell_type": "code",
   "execution_count": null,
   "metadata": {
    "execution": {
     "iopub.execute_input": "2022-01-22T13:16:47.379511Z",
     "iopub.status.busy": "2022-01-22T13:16:47.378808Z",
     "iopub.status.idle": "2022-01-22T13:16:47.507993Z",
     "shell.execute_reply": "2022-01-22T13:16:47.508864Z"
    },
    "papermill": {
     "duration": 0.265605,
     "end_time": "2022-01-22T13:16:47.509062",
     "exception": false,
     "start_time": "2022-01-22T13:16:47.243457",
     "status": "completed"
    },
    "tags": []
   },
   "outputs": [],
   "source": [
    "# Check for the VIF values of the feature variables. \n",
    "from statsmodels.stats.outliers_influence import variance_inflation_factor\n",
    "\n",
    "# Create a dataframe that will contain the names of all the feature variables and their respective VIFs\n",
    "vif = pd.DataFrame()\n",
    "vif['Features'] = X_train_rfe.columns\n",
    "vif['VIF'] = [variance_inflation_factor(X_train_rfe.values, i) for i in range(X_train_rfe.shape[1])]\n",
    "vif['VIF'] = round(vif['VIF'], 2)\n",
    "vif = vif.sort_values(by = \"VIF\", ascending = False)\n",
    "vif"
   ]
  },
  {
   "cell_type": "code",
   "execution_count": null,
   "metadata": {
    "execution": {
     "iopub.execute_input": "2022-01-22T13:16:47.777363Z",
     "iopub.status.busy": "2022-01-22T13:16:47.776316Z",
     "iopub.status.idle": "2022-01-22T13:16:48.350673Z",
     "shell.execute_reply": "2022-01-22T13:16:48.351181Z"
    },
    "papermill": {
     "duration": 0.708193,
     "end_time": "2022-01-22T13:16:48.351341",
     "exception": false,
     "start_time": "2022-01-22T13:16:47.643148",
     "status": "completed"
    },
    "tags": []
   },
   "outputs": [],
   "source": [
    "import statsmodels.api as sm\n",
    "\n",
    "# Add a constant\n",
    "X_train_lm1 = sm.add_constant(X_train_rfe)\n",
    "\n",
    "# Create a first fitted model\n",
    "lr1 = sm.OLS(y_train, X_train_lm1).fit()"
   ]
  },
  {
   "cell_type": "code",
   "execution_count": null,
   "metadata": {
    "execution": {
     "iopub.execute_input": "2022-01-22T13:16:48.615176Z",
     "iopub.status.busy": "2022-01-22T13:16:48.614097Z",
     "iopub.status.idle": "2022-01-22T13:16:48.621736Z",
     "shell.execute_reply": "2022-01-22T13:16:48.622951Z"
    },
    "papermill": {
     "duration": 0.143277,
     "end_time": "2022-01-22T13:16:48.623105",
     "exception": false,
     "start_time": "2022-01-22T13:16:48.479828",
     "status": "completed"
    },
    "tags": []
   },
   "outputs": [],
   "source": [
    "# Check the parameters obtained\n",
    "\n",
    "lr1.params"
   ]
  },
  {
   "cell_type": "code",
   "execution_count": null,
   "metadata": {
    "execution": {
     "iopub.execute_input": "2022-01-22T13:16:48.895574Z",
     "iopub.status.busy": "2022-01-22T13:16:48.894423Z",
     "iopub.status.idle": "2022-01-22T13:16:48.913446Z",
     "shell.execute_reply": "2022-01-22T13:16:48.912657Z"
    },
    "papermill": {
     "duration": 0.160609,
     "end_time": "2022-01-22T13:16:48.913642",
     "exception": false,
     "start_time": "2022-01-22T13:16:48.753033",
     "status": "completed"
    },
    "tags": []
   },
   "outputs": [],
   "source": [
    "# Print a summary of the linear regression model obtained\n",
    "print(lr1.summary())"
   ]
  },
  {
   "cell_type": "markdown",
   "metadata": {
    "papermill": {
     "duration": 0.134716,
     "end_time": "2022-01-22T13:16:49.179632",
     "exception": false,
     "start_time": "2022-01-22T13:16:49.044916",
     "status": "completed"
    },
    "tags": []
   },
   "source": [
    "## Model 2"
   ]
  },
  {
   "cell_type": "markdown",
   "metadata": {
    "papermill": {
     "duration": 0.131335,
     "end_time": "2022-01-22T13:16:49.443214",
     "exception": false,
     "start_time": "2022-01-22T13:16:49.311879",
     "status": "completed"
    },
    "tags": []
   },
   "source": [
    "- Removing the variable 'atemp' based on its High p-value & High VIF"
   ]
  },
  {
   "cell_type": "code",
   "execution_count": null,
   "metadata": {
    "execution": {
     "iopub.execute_input": "2022-01-22T13:16:49.709547Z",
     "iopub.status.busy": "2022-01-22T13:16:49.708826Z",
     "iopub.status.idle": "2022-01-22T13:16:49.711625Z",
     "shell.execute_reply": "2022-01-22T13:16:49.712323Z"
    },
    "papermill": {
     "duration": 0.139803,
     "end_time": "2022-01-22T13:16:49.712498",
     "exception": false,
     "start_time": "2022-01-22T13:16:49.572695",
     "status": "completed"
    },
    "tags": []
   },
   "outputs": [],
   "source": [
    "X_train_new = X_train_rfe.drop([\"atemp\"], axis = 1)"
   ]
  },
  {
   "cell_type": "markdown",
   "metadata": {
    "papermill": {
     "duration": 0.129778,
     "end_time": "2022-01-22T13:16:49.975229",
     "exception": false,
     "start_time": "2022-01-22T13:16:49.845451",
     "status": "completed"
    },
    "tags": []
   },
   "source": [
    "### VIF Check"
   ]
  },
  {
   "cell_type": "code",
   "execution_count": null,
   "metadata": {
    "execution": {
     "iopub.execute_input": "2022-01-22T13:16:50.248090Z",
     "iopub.status.busy": "2022-01-22T13:16:50.247388Z",
     "iopub.status.idle": "2022-01-22T13:16:50.280765Z",
     "shell.execute_reply": "2022-01-22T13:16:50.281383Z"
    },
    "papermill": {
     "duration": 0.175369,
     "end_time": "2022-01-22T13:16:50.281575",
     "exception": false,
     "start_time": "2022-01-22T13:16:50.106206",
     "status": "completed"
    },
    "tags": []
   },
   "outputs": [],
   "source": [
    "# Check for the VIF values of the feature variables. \n",
    "from statsmodels.stats.outliers_influence import variance_inflation_factor\n",
    "\n",
    "# Create a dataframe that will contain the names of all the feature variables and their respective VIFs\n",
    "vif = pd.DataFrame()\n",
    "vif['Features'] = X_train_new.columns\n",
    "vif['VIF'] = [variance_inflation_factor(X_train_new.values, i) for i in range(X_train_new.shape[1])]\n",
    "vif['VIF'] = round(vif['VIF'], 2)\n",
    "vif = vif.sort_values(by = \"VIF\", ascending = False)\n",
    "vif"
   ]
  },
  {
   "cell_type": "code",
   "execution_count": null,
   "metadata": {
    "execution": {
     "iopub.execute_input": "2022-01-22T13:16:50.559444Z",
     "iopub.status.busy": "2022-01-22T13:16:50.558698Z",
     "iopub.status.idle": "2022-01-22T13:16:50.566412Z",
     "shell.execute_reply": "2022-01-22T13:16:50.566933Z"
    },
    "papermill": {
     "duration": 0.145589,
     "end_time": "2022-01-22T13:16:50.567080",
     "exception": false,
     "start_time": "2022-01-22T13:16:50.421491",
     "status": "completed"
    },
    "tags": []
   },
   "outputs": [],
   "source": [
    "# Add a constant\n",
    "X_train_lm2 = sm.add_constant(X_train_new)\n",
    "\n",
    "# Create a first fitted model\n",
    "lr2 = sm.OLS(y_train, X_train_lm2).fit()"
   ]
  },
  {
   "cell_type": "code",
   "execution_count": null,
   "metadata": {
    "execution": {
     "iopub.execute_input": "2022-01-22T13:16:50.842852Z",
     "iopub.status.busy": "2022-01-22T13:16:50.842161Z",
     "iopub.status.idle": "2022-01-22T13:16:50.845179Z",
     "shell.execute_reply": "2022-01-22T13:16:50.845693Z"
    },
    "papermill": {
     "duration": 0.143413,
     "end_time": "2022-01-22T13:16:50.845840",
     "exception": false,
     "start_time": "2022-01-22T13:16:50.702427",
     "status": "completed"
    },
    "tags": []
   },
   "outputs": [],
   "source": [
    "# Check the parameters obtained\n",
    "\n",
    "lr2.params"
   ]
  },
  {
   "cell_type": "code",
   "execution_count": null,
   "metadata": {
    "execution": {
     "iopub.execute_input": "2022-01-22T13:16:51.122688Z",
     "iopub.status.busy": "2022-01-22T13:16:51.121924Z",
     "iopub.status.idle": "2022-01-22T13:16:51.139274Z",
     "shell.execute_reply": "2022-01-22T13:16:51.139803Z"
    },
    "papermill": {
     "duration": 0.156485,
     "end_time": "2022-01-22T13:16:51.139960",
     "exception": false,
     "start_time": "2022-01-22T13:16:50.983475",
     "status": "completed"
    },
    "tags": []
   },
   "outputs": [],
   "source": [
    "# Print a summary of the linear regression model obtained\n",
    "print(lr2.summary())"
   ]
  },
  {
   "cell_type": "markdown",
   "metadata": {
    "papermill": {
     "duration": 0.133891,
     "end_time": "2022-01-22T13:16:51.406630",
     "exception": false,
     "start_time": "2022-01-22T13:16:51.272739",
     "status": "completed"
    },
    "tags": []
   },
   "source": [
    "## Model 3"
   ]
  },
  {
   "cell_type": "markdown",
   "metadata": {
    "papermill": {
     "duration": 0.132502,
     "end_time": "2022-01-22T13:16:51.673931",
     "exception": false,
     "start_time": "2022-01-22T13:16:51.541429",
     "status": "completed"
    },
    "tags": []
   },
   "source": [
    " - Removing the variable 'hum' based on its Very High 'VIF' value.\n",
    " - Even though the VIF of hum is second highest, we decided to drop 'hum' and not 'temp' based on general knowledge that temperature can be an important factor for a business like bike rentals, and wanted to retain 'temp'."
   ]
  },
  {
   "cell_type": "code",
   "execution_count": null,
   "metadata": {
    "execution": {
     "iopub.execute_input": "2022-01-22T13:16:51.945290Z",
     "iopub.status.busy": "2022-01-22T13:16:51.944593Z",
     "iopub.status.idle": "2022-01-22T13:16:51.950000Z",
     "shell.execute_reply": "2022-01-22T13:16:51.950550Z"
    },
    "papermill": {
     "duration": 0.143121,
     "end_time": "2022-01-22T13:16:51.950701",
     "exception": false,
     "start_time": "2022-01-22T13:16:51.807580",
     "status": "completed"
    },
    "tags": []
   },
   "outputs": [],
   "source": [
    "X_train_new = X_train_new.drop([\"hum\"], axis = 1)"
   ]
  },
  {
   "cell_type": "markdown",
   "metadata": {
    "papermill": {
     "duration": 0.133765,
     "end_time": "2022-01-22T13:16:52.222340",
     "exception": false,
     "start_time": "2022-01-22T13:16:52.088575",
     "status": "completed"
    },
    "tags": []
   },
   "source": [
    "### VIF Check"
   ]
  },
  {
   "cell_type": "code",
   "execution_count": null,
   "metadata": {
    "execution": {
     "iopub.execute_input": "2022-01-22T13:16:52.490617Z",
     "iopub.status.busy": "2022-01-22T13:16:52.489911Z",
     "iopub.status.idle": "2022-01-22T13:16:52.523668Z",
     "shell.execute_reply": "2022-01-22T13:16:52.524326Z"
    },
    "papermill": {
     "duration": 0.168423,
     "end_time": "2022-01-22T13:16:52.524516",
     "exception": false,
     "start_time": "2022-01-22T13:16:52.356093",
     "status": "completed"
    },
    "tags": []
   },
   "outputs": [],
   "source": [
    "# Check for the VIF values of the feature variables. \n",
    "from statsmodels.stats.outliers_influence import variance_inflation_factor\n",
    "\n",
    "# Create a dataframe that will contain the names of all the feature variables and their respective VIFs\n",
    "vif = pd.DataFrame()\n",
    "vif['Features'] = X_train_new.columns\n",
    "vif['VIF'] = [variance_inflation_factor(X_train_new.values, i) for i in range(X_train_new.shape[1])]\n",
    "vif['VIF'] = round(vif['VIF'], 2)\n",
    "vif = vif.sort_values(by = \"VIF\", ascending = False)\n",
    "vif"
   ]
  },
  {
   "cell_type": "code",
   "execution_count": null,
   "metadata": {
    "execution": {
     "iopub.execute_input": "2022-01-22T13:16:52.799497Z",
     "iopub.status.busy": "2022-01-22T13:16:52.798349Z",
     "iopub.status.idle": "2022-01-22T13:16:52.807208Z",
     "shell.execute_reply": "2022-01-22T13:16:52.807765Z"
    },
    "papermill": {
     "duration": 0.147459,
     "end_time": "2022-01-22T13:16:52.807917",
     "exception": false,
     "start_time": "2022-01-22T13:16:52.660458",
     "status": "completed"
    },
    "tags": []
   },
   "outputs": [],
   "source": [
    "# Add a constant\n",
    "X_train_lm3 = sm.add_constant(X_train_new)\n",
    "\n",
    "# Create a first fitted model\n",
    "lr3 = sm.OLS(y_train, X_train_lm3).fit()"
   ]
  },
  {
   "cell_type": "code",
   "execution_count": null,
   "metadata": {
    "execution": {
     "iopub.execute_input": "2022-01-22T13:16:53.082395Z",
     "iopub.status.busy": "2022-01-22T13:16:53.081346Z",
     "iopub.status.idle": "2022-01-22T13:16:53.089212Z",
     "shell.execute_reply": "2022-01-22T13:16:53.089781Z"
    },
    "papermill": {
     "duration": 0.145679,
     "end_time": "2022-01-22T13:16:53.089929",
     "exception": false,
     "start_time": "2022-01-22T13:16:52.944250",
     "status": "completed"
    },
    "tags": []
   },
   "outputs": [],
   "source": [
    "lr3.params"
   ]
  },
  {
   "cell_type": "code",
   "execution_count": null,
   "metadata": {
    "execution": {
     "iopub.execute_input": "2022-01-22T13:16:53.361263Z",
     "iopub.status.busy": "2022-01-22T13:16:53.360217Z",
     "iopub.status.idle": "2022-01-22T13:16:53.380005Z",
     "shell.execute_reply": "2022-01-22T13:16:53.380653Z"
    },
    "papermill": {
     "duration": 0.156118,
     "end_time": "2022-01-22T13:16:53.380804",
     "exception": false,
     "start_time": "2022-01-22T13:16:53.224686",
     "status": "completed"
    },
    "tags": []
   },
   "outputs": [],
   "source": [
    "# Print a summary of the linear regression model obtained\n",
    "print(lr3.summary())"
   ]
  },
  {
   "cell_type": "markdown",
   "metadata": {
    "papermill": {
     "duration": 0.134626,
     "end_time": "2022-01-22T13:16:53.651020",
     "exception": false,
     "start_time": "2022-01-22T13:16:53.516394",
     "status": "completed"
    },
    "tags": []
   },
   "source": [
    "## Model 4"
   ]
  },
  {
   "cell_type": "markdown",
   "metadata": {
    "papermill": {
     "duration": 0.132235,
     "end_time": "2022-01-22T13:16:53.917958",
     "exception": false,
     "start_time": "2022-01-22T13:16:53.785723",
     "status": "completed"
    },
    "tags": []
   },
   "source": [
    "- Removing the variable 'season3' based on its Very High 'VIF' value.\n",
    "- Even though the VIF of season3 is second highest, we decided to drop 'season3' and not 'temp' based on general knowledge that temperature can be an important factor for a business like bike rentals, and wanted to retain 'temp'."
   ]
  },
  {
   "cell_type": "code",
   "execution_count": null,
   "metadata": {
    "execution": {
     "iopub.execute_input": "2022-01-22T13:16:54.189308Z",
     "iopub.status.busy": "2022-01-22T13:16:54.188294Z",
     "iopub.status.idle": "2022-01-22T13:16:54.194029Z",
     "shell.execute_reply": "2022-01-22T13:16:54.194565Z"
    },
    "papermill": {
     "duration": 0.142684,
     "end_time": "2022-01-22T13:16:54.194726",
     "exception": false,
     "start_time": "2022-01-22T13:16:54.052042",
     "status": "completed"
    },
    "tags": []
   },
   "outputs": [],
   "source": [
    "X_train_new = X_train_new.drop([\"season_3\"], axis = 1)"
   ]
  },
  {
   "cell_type": "markdown",
   "metadata": {
    "papermill": {
     "duration": 0.134577,
     "end_time": "2022-01-22T13:16:54.463843",
     "exception": false,
     "start_time": "2022-01-22T13:16:54.329266",
     "status": "completed"
    },
    "tags": []
   },
   "source": [
    "### VIF Check"
   ]
  },
  {
   "cell_type": "code",
   "execution_count": null,
   "metadata": {
    "execution": {
     "iopub.execute_input": "2022-01-22T13:16:54.741371Z",
     "iopub.status.busy": "2022-01-22T13:16:54.740659Z",
     "iopub.status.idle": "2022-01-22T13:16:54.771705Z",
     "shell.execute_reply": "2022-01-22T13:16:54.772510Z"
    },
    "papermill": {
     "duration": 0.175749,
     "end_time": "2022-01-22T13:16:54.772739",
     "exception": false,
     "start_time": "2022-01-22T13:16:54.596990",
     "status": "completed"
    },
    "tags": []
   },
   "outputs": [],
   "source": [
    "# Check for the VIF values of the feature variables. \n",
    "from statsmodels.stats.outliers_influence import variance_inflation_factor\n",
    "\n",
    "# Create a dataframe that will contain the names of all the feature variables and their respective VIFs\n",
    "vif = pd.DataFrame()\n",
    "vif['Features'] = X_train_new.columns\n",
    "vif['VIF'] = [variance_inflation_factor(X_train_new.values, i) for i in range(X_train_new.shape[1])]\n",
    "vif['VIF'] = round(vif['VIF'], 2)\n",
    "vif = vif.sort_values(by = \"VIF\", ascending = False)\n",
    "vif"
   ]
  },
  {
   "cell_type": "code",
   "execution_count": null,
   "metadata": {
    "execution": {
     "iopub.execute_input": "2022-01-22T13:16:55.092478Z",
     "iopub.status.busy": "2022-01-22T13:16:55.091412Z",
     "iopub.status.idle": "2022-01-22T13:16:55.099788Z",
     "shell.execute_reply": "2022-01-22T13:16:55.100383Z"
    },
    "papermill": {
     "duration": 0.150504,
     "end_time": "2022-01-22T13:16:55.100544",
     "exception": false,
     "start_time": "2022-01-22T13:16:54.950040",
     "status": "completed"
    },
    "tags": []
   },
   "outputs": [],
   "source": [
    "# Add a constant\n",
    "X_train_lm4 = sm.add_constant(X_train_new)\n",
    "\n",
    "# Create a first fitted model\n",
    "lr4 = sm.OLS(y_train, X_train_lm4).fit()"
   ]
  },
  {
   "cell_type": "code",
   "execution_count": null,
   "metadata": {
    "execution": {
     "iopub.execute_input": "2022-01-22T13:16:55.377531Z",
     "iopub.status.busy": "2022-01-22T13:16:55.375912Z",
     "iopub.status.idle": "2022-01-22T13:16:55.384897Z",
     "shell.execute_reply": "2022-01-22T13:16:55.384283Z"
    },
    "papermill": {
     "duration": 0.146951,
     "end_time": "2022-01-22T13:16:55.385025",
     "exception": false,
     "start_time": "2022-01-22T13:16:55.238074",
     "status": "completed"
    },
    "tags": []
   },
   "outputs": [],
   "source": [
    "# Check the parameters obtained\n",
    "\n",
    "lr4.params"
   ]
  },
  {
   "cell_type": "code",
   "execution_count": null,
   "metadata": {
    "execution": {
     "iopub.execute_input": "2022-01-22T13:16:55.661878Z",
     "iopub.status.busy": "2022-01-22T13:16:55.660801Z",
     "iopub.status.idle": "2022-01-22T13:16:55.676798Z",
     "shell.execute_reply": "2022-01-22T13:16:55.677379Z"
    },
    "papermill": {
     "duration": 0.15569,
     "end_time": "2022-01-22T13:16:55.677541",
     "exception": false,
     "start_time": "2022-01-22T13:16:55.521851",
     "status": "completed"
    },
    "tags": []
   },
   "outputs": [],
   "source": [
    "# Print a summary of the linear regression model obtained\n",
    "print(lr4.summary())"
   ]
  },
  {
   "cell_type": "markdown",
   "metadata": {
    "papermill": {
     "duration": 0.142675,
     "end_time": "2022-01-22T13:16:55.957371",
     "exception": false,
     "start_time": "2022-01-22T13:16:55.814696",
     "status": "completed"
    },
    "tags": []
   },
   "source": [
    "## Model 5"
   ]
  },
  {
   "cell_type": "markdown",
   "metadata": {
    "papermill": {
     "duration": 0.134878,
     "end_time": "2022-01-22T13:16:56.232075",
     "exception": false,
     "start_time": "2022-01-22T13:16:56.097197",
     "status": "completed"
    },
    "tags": []
   },
   "source": [
    "- Removing the variable 'mnth_10' based on its Very High p-value."
   ]
  },
  {
   "cell_type": "code",
   "execution_count": null,
   "metadata": {
    "execution": {
     "iopub.execute_input": "2022-01-22T13:16:56.518795Z",
     "iopub.status.busy": "2022-01-22T13:16:56.518110Z",
     "iopub.status.idle": "2022-01-22T13:16:56.523404Z",
     "shell.execute_reply": "2022-01-22T13:16:56.523942Z"
    },
    "papermill": {
     "duration": 0.155606,
     "end_time": "2022-01-22T13:16:56.524096",
     "exception": false,
     "start_time": "2022-01-22T13:16:56.368490",
     "status": "completed"
    },
    "tags": []
   },
   "outputs": [],
   "source": [
    "X_train_new = X_train_new.drop([\"mnth_10\"], axis = 1)"
   ]
  },
  {
   "cell_type": "markdown",
   "metadata": {
    "papermill": {
     "duration": 0.134386,
     "end_time": "2022-01-22T13:16:56.794097",
     "exception": false,
     "start_time": "2022-01-22T13:16:56.659711",
     "status": "completed"
    },
    "tags": []
   },
   "source": [
    "### VIF Check"
   ]
  },
  {
   "cell_type": "code",
   "execution_count": null,
   "metadata": {
    "execution": {
     "iopub.execute_input": "2022-01-22T13:16:57.078820Z",
     "iopub.status.busy": "2022-01-22T13:16:57.078139Z",
     "iopub.status.idle": "2022-01-22T13:16:57.107562Z",
     "shell.execute_reply": "2022-01-22T13:16:57.108274Z"
    },
    "papermill": {
     "duration": 0.172313,
     "end_time": "2022-01-22T13:16:57.108470",
     "exception": false,
     "start_time": "2022-01-22T13:16:56.936157",
     "status": "completed"
    },
    "tags": []
   },
   "outputs": [],
   "source": [
    "# Check for the VIF values of the feature variables. \n",
    "from statsmodels.stats.outliers_influence import variance_inflation_factor\n",
    "\n",
    "# Create a dataframe that will contain the names of all the feature variables and their respective VIFs\n",
    "vif = pd.DataFrame()\n",
    "vif['Features'] = X_train_new.columns\n",
    "vif['VIF'] = [variance_inflation_factor(X_train_new.values, i) for i in range(X_train_new.shape[1])]\n",
    "vif['VIF'] = round(vif['VIF'], 2)\n",
    "vif = vif.sort_values(by = \"VIF\", ascending = False)\n",
    "vif"
   ]
  },
  {
   "cell_type": "code",
   "execution_count": null,
   "metadata": {
    "execution": {
     "iopub.execute_input": "2022-01-22T13:16:57.436655Z",
     "iopub.status.busy": "2022-01-22T13:16:57.435945Z",
     "iopub.status.idle": "2022-01-22T13:16:57.443977Z",
     "shell.execute_reply": "2022-01-22T13:16:57.444537Z"
    },
    "papermill": {
     "duration": 0.194879,
     "end_time": "2022-01-22T13:16:57.444687",
     "exception": false,
     "start_time": "2022-01-22T13:16:57.249808",
     "status": "completed"
    },
    "tags": []
   },
   "outputs": [],
   "source": [
    "# Add a constant\n",
    "X_train_lm5 = sm.add_constant(X_train_new)\n",
    "\n",
    "# Create a first fitted model\n",
    "lr5 = sm.OLS(y_train, X_train_lm5).fit()"
   ]
  },
  {
   "cell_type": "code",
   "execution_count": null,
   "metadata": {
    "execution": {
     "iopub.execute_input": "2022-01-22T13:16:57.723921Z",
     "iopub.status.busy": "2022-01-22T13:16:57.723229Z",
     "iopub.status.idle": "2022-01-22T13:16:57.730897Z",
     "shell.execute_reply": "2022-01-22T13:16:57.731430Z"
    },
    "papermill": {
     "duration": 0.147782,
     "end_time": "2022-01-22T13:16:57.731590",
     "exception": false,
     "start_time": "2022-01-22T13:16:57.583808",
     "status": "completed"
    },
    "tags": []
   },
   "outputs": [],
   "source": [
    "# Check the parameters obtained\n",
    "\n",
    "lr5.params"
   ]
  },
  {
   "cell_type": "code",
   "execution_count": null,
   "metadata": {
    "execution": {
     "iopub.execute_input": "2022-01-22T13:16:58.009336Z",
     "iopub.status.busy": "2022-01-22T13:16:58.008649Z",
     "iopub.status.idle": "2022-01-22T13:16:58.024722Z",
     "shell.execute_reply": "2022-01-22T13:16:58.025275Z"
    },
    "papermill": {
     "duration": 0.156552,
     "end_time": "2022-01-22T13:16:58.025424",
     "exception": false,
     "start_time": "2022-01-22T13:16:57.868872",
     "status": "completed"
    },
    "tags": []
   },
   "outputs": [],
   "source": [
    "# Print a summary of the linear regression model obtained\n",
    "print(lr5.summary())"
   ]
  },
  {
   "cell_type": "markdown",
   "metadata": {
    "papermill": {
     "duration": 0.136808,
     "end_time": "2022-01-22T13:16:58.301384",
     "exception": false,
     "start_time": "2022-01-22T13:16:58.164576",
     "status": "completed"
    },
    "tags": []
   },
   "source": [
    "## Model 6"
   ]
  },
  {
   "cell_type": "markdown",
   "metadata": {
    "papermill": {
     "duration": 0.140316,
     "end_time": "2022-01-22T13:16:58.581135",
     "exception": false,
     "start_time": "2022-01-22T13:16:58.440819",
     "status": "completed"
    },
    "tags": []
   },
   "source": [
    "- Removing the variable 'mnth_3' based on its High 'p-value'."
   ]
  },
  {
   "cell_type": "code",
   "execution_count": null,
   "metadata": {
    "execution": {
     "iopub.execute_input": "2022-01-22T13:16:58.860542Z",
     "iopub.status.busy": "2022-01-22T13:16:58.859834Z",
     "iopub.status.idle": "2022-01-22T13:16:58.864837Z",
     "shell.execute_reply": "2022-01-22T13:16:58.865327Z"
    },
    "papermill": {
     "duration": 0.146717,
     "end_time": "2022-01-22T13:16:58.865487",
     "exception": false,
     "start_time": "2022-01-22T13:16:58.718770",
     "status": "completed"
    },
    "tags": []
   },
   "outputs": [],
   "source": [
    "X_train_new = X_train_new.drop([\"mnth_3\"], axis = 1)"
   ]
  },
  {
   "cell_type": "markdown",
   "metadata": {
    "papermill": {
     "duration": 0.137328,
     "end_time": "2022-01-22T13:16:59.142950",
     "exception": false,
     "start_time": "2022-01-22T13:16:59.005622",
     "status": "completed"
    },
    "tags": []
   },
   "source": [
    "### VIF Check"
   ]
  },
  {
   "cell_type": "code",
   "execution_count": null,
   "metadata": {
    "execution": {
     "iopub.execute_input": "2022-01-22T13:16:59.429526Z",
     "iopub.status.busy": "2022-01-22T13:16:59.428808Z",
     "iopub.status.idle": "2022-01-22T13:16:59.452731Z",
     "shell.execute_reply": "2022-01-22T13:16:59.453266Z"
    },
    "papermill": {
     "duration": 0.172263,
     "end_time": "2022-01-22T13:16:59.453437",
     "exception": false,
     "start_time": "2022-01-22T13:16:59.281174",
     "status": "completed"
    },
    "tags": []
   },
   "outputs": [],
   "source": [
    "# Check for the VIF values of the feature variables. \n",
    "from statsmodels.stats.outliers_influence import variance_inflation_factor\n",
    "\n",
    "# Create a dataframe that will contain the names of all the feature variables and their respective VIFs\n",
    "vif = pd.DataFrame()\n",
    "vif['Features'] = X_train_new.columns\n",
    "vif['VIF'] = [variance_inflation_factor(X_train_new.values, i) for i in range(X_train_new.shape[1])]\n",
    "vif['VIF'] = round(vif['VIF'], 2)\n",
    "vif = vif.sort_values(by = \"VIF\", ascending = False)\n",
    "vif"
   ]
  },
  {
   "cell_type": "code",
   "execution_count": null,
   "metadata": {
    "execution": {
     "iopub.execute_input": "2022-01-22T13:16:59.735046Z",
     "iopub.status.busy": "2022-01-22T13:16:59.734370Z",
     "iopub.status.idle": "2022-01-22T13:16:59.744639Z",
     "shell.execute_reply": "2022-01-22T13:16:59.745233Z"
    },
    "papermill": {
     "duration": 0.152413,
     "end_time": "2022-01-22T13:16:59.745395",
     "exception": false,
     "start_time": "2022-01-22T13:16:59.592982",
     "status": "completed"
    },
    "tags": []
   },
   "outputs": [],
   "source": [
    "# Add a constant\n",
    "X_train_lm6 = sm.add_constant(X_train_new)\n",
    "\n",
    "# Create a first fitted model\n",
    "lr6 = sm.OLS(y_train, X_train_lm6).fit()"
   ]
  },
  {
   "cell_type": "code",
   "execution_count": null,
   "metadata": {
    "execution": {
     "iopub.execute_input": "2022-01-22T13:17:00.038203Z",
     "iopub.status.busy": "2022-01-22T13:17:00.037170Z",
     "iopub.status.idle": "2022-01-22T13:17:00.044688Z",
     "shell.execute_reply": "2022-01-22T13:17:00.045284Z"
    },
    "papermill": {
     "duration": 0.151365,
     "end_time": "2022-01-22T13:17:00.045454",
     "exception": false,
     "start_time": "2022-01-22T13:16:59.894089",
     "status": "completed"
    },
    "tags": []
   },
   "outputs": [],
   "source": [
    "# Check the parameters obtained\n",
    "\n",
    "lr6.params"
   ]
  },
  {
   "cell_type": "code",
   "execution_count": null,
   "metadata": {
    "execution": {
     "iopub.execute_input": "2022-01-22T13:17:00.328225Z",
     "iopub.status.busy": "2022-01-22T13:17:00.327173Z",
     "iopub.status.idle": "2022-01-22T13:17:00.345043Z",
     "shell.execute_reply": "2022-01-22T13:17:00.344517Z"
    },
    "papermill": {
     "duration": 0.160413,
     "end_time": "2022-01-22T13:17:00.345182",
     "exception": false,
     "start_time": "2022-01-22T13:17:00.184769",
     "status": "completed"
    },
    "tags": []
   },
   "outputs": [],
   "source": [
    "# Print a summary of the linear regression model obtained\n",
    "print(lr6.summary())"
   ]
  },
  {
   "cell_type": "markdown",
   "metadata": {
    "papermill": {
     "duration": 0.139778,
     "end_time": "2022-01-22T13:17:00.630796",
     "exception": false,
     "start_time": "2022-01-22T13:17:00.491018",
     "status": "completed"
    },
    "tags": []
   },
   "source": [
    "### Insights\n",
    "- This model looks good, as there seems to be VERY LOW Multicollinearity between the predictors and the p-values for all the predictors seems to be significant. For now, we will consider this as our final model (unless the Test data metrics are not significantly close to this number)."
   ]
  },
  {
   "cell_type": "markdown",
   "metadata": {
    "papermill": {
     "duration": 0.139591,
     "end_time": "2022-01-22T13:17:00.910058",
     "exception": false,
     "start_time": "2022-01-22T13:17:00.770467",
     "status": "completed"
    },
    "tags": []
   },
   "source": [
    "# Final Model Interpretation"
   ]
  },
  {
   "cell_type": "markdown",
   "metadata": {
    "papermill": {
     "duration": 0.140569,
     "end_time": "2022-01-22T13:17:01.191662",
     "exception": false,
     "start_time": "2022-01-22T13:17:01.051093",
     "status": "completed"
    },
    "tags": []
   },
   "source": [
    "## Hypothesis Testing:"
   ]
  },
  {
   "cell_type": "markdown",
   "metadata": {
    "papermill": {
     "duration": 0.141108,
     "end_time": "2022-01-22T13:17:01.474069",
     "exception": false,
     "start_time": "2022-01-22T13:17:01.332961",
     "status": "completed"
    },
    "tags": []
   },
   "source": [
    "Hypothesis testing states that:\n",
    "- H0:B1=B2=...=Bn=0 \n",
    "- H1:  at least one  Bi!=0"
   ]
  },
  {
   "cell_type": "markdown",
   "metadata": {
    "papermill": {
     "duration": 0.140633,
     "end_time": "2022-01-22T13:17:01.759705",
     "exception": false,
     "start_time": "2022-01-22T13:17:01.619072",
     "status": "completed"
    },
    "tags": []
   },
   "source": [
    "### lr6 model coefficient values"
   ]
  },
  {
   "cell_type": "markdown",
   "metadata": {
    "papermill": {
     "duration": 0.141988,
     "end_time": "2022-01-22T13:17:02.042436",
     "exception": false,
     "start_time": "2022-01-22T13:17:01.900448",
     "status": "completed"
    },
    "tags": []
   },
   "source": [
    "- const 0.084143\n",
    "- yr 0.230846\n",
    "- workingday 0.043203\n",
    "- temp 0.563615\n",
    "- windspeed -0.155191\n",
    "- season_2 0.082706\n",
    "- season_4 0.128744\n",
    "- mnth_9 0.094743\n",
    "- weekday_6 0.056909\n",
    "- weathersit_2 -0.074807\n",
    "- weathersit_3 -0.306992"
   ]
  },
  {
   "cell_type": "markdown",
   "metadata": {
    "papermill": {
     "duration": 0.138238,
     "end_time": "2022-01-22T13:17:02.319470",
     "exception": false,
     "start_time": "2022-01-22T13:17:02.181232",
     "status": "completed"
    },
    "tags": []
   },
   "source": [
    "### Insights\n",
    "- From the lr6 model summary, it is evident that all our coefficients are not equal to zerowhich means **We REJECT the NULL HYPOTHESIS**\n",
    "    "
   ]
  },
  {
   "cell_type": "markdown",
   "metadata": {
    "papermill": {
     "duration": 0.140415,
     "end_time": "2022-01-22T13:17:02.601083",
     "exception": false,
     "start_time": "2022-01-22T13:17:02.460668",
     "status": "completed"
    },
    "tags": []
   },
   "source": [
    "### F Statistics"
   ]
  },
  {
   "cell_type": "markdown",
   "metadata": {
    "papermill": {
     "duration": 0.140484,
     "end_time": "2022-01-22T13:17:02.880658",
     "exception": false,
     "start_time": "2022-01-22T13:17:02.740174",
     "status": "completed"
    },
    "tags": []
   },
   "source": [
    "F-Statistics is used for testing the overall significance of the Model: Higher the F-Statistics, more significant the Model is.\n",
    "\n",
    "- F-statistic: 233.8\n",
    "- Prob (F-statistic): 3.77e-181\n",
    "\n",
    "The F-Statistics value of 233 (which is greater than 1) and the p-value of '~0.0000' states that the overall model is significant"
   ]
  },
  {
   "cell_type": "markdown",
   "metadata": {
    "papermill": {
     "duration": 0.137863,
     "end_time": "2022-01-22T13:17:03.157846",
     "exception": false,
     "start_time": "2022-01-22T13:17:03.019983",
     "status": "completed"
    },
    "tags": []
   },
   "source": [
    "## The equation of best fitted surface based on model lr6:"
   ]
  },
  {
   "cell_type": "markdown",
   "metadata": {
    "papermill": {
     "duration": 0.138269,
     "end_time": "2022-01-22T13:17:03.435027",
     "exception": false,
     "start_time": "2022-01-22T13:17:03.296758",
     "status": "completed"
    },
    "tags": []
   },
   "source": [
    "cnt = 0.084143 + (**yr** × 0.230846) + (**workingday** × 0.043203) + (**temp** × 0.563615) − (**windspeed** × 0.155191) + (**season2** × 0.082706) + (**season4** ×0.128744) + (**mnth9** × 0.094743) + (**weekday6** ×0.056909) − (**weathersit2** × 0.074807) − (**weathersit3** × 0.306992)"
   ]
  },
  {
   "cell_type": "markdown",
   "metadata": {
    "papermill": {
     "duration": 0.138238,
     "end_time": "2022-01-22T13:17:03.713306",
     "exception": false,
     "start_time": "2022-01-22T13:17:03.575068",
     "status": "completed"
    },
    "tags": []
   },
   "source": [
    "## Interpretation of Coefficients:\n",
    "**temp:** A coefficient value of ‘0.5636’ indicated that a unit increase in temp variable, increases the bike hire numbers by 0.5636 units.\n",
    "\n",
    "**weathersit_3:** A coefficient value of ‘-0.3070’ indicated that, w.r.t Weathersit1, a unit increase in Weathersit3 variable, decreases the bike hire numbers by 0.3070 units.\n",
    "\n",
    "**yr:** A coefficient value of ‘0.2308’ indicated that a unit increase in yr variable, increases the bike hire numbers by 0.2308 units.\n",
    "\n",
    "**season_4:** A coefficient value of ‘0.128744’ indicated that w.r.t season_1, a unit increase in season_4 variable increases the bike hire numbers by 0.128744 units.\n",
    "\n",
    "**windspeed:** A coefficient value of ‘-0.155191’ indicated that, a unit increase in windspeed variable decreases the bike hire numbers by 0.155191 units.\n",
    "\n",
    "**workingday:** A coefficient value of ‘0.043203’ indicated that, a unit increase in workingday variable increases the bike hire numbers by 0.043203 units.\n",
    "\n",
    "**season_2:** A coefficient value of ‘0.082706’ indicated that w.r.t season_1, a unit increase in season_2 variable decreases the bike hire numbers by 0.082706 units.\n",
    "\n",
    "**mnth_9:** A coefficient value of ‘0.094743’ indicated that w.r.t mnth_1, a unit increase in mnth_9 variable increases the bike hire numbers by 0.094743 units.\n",
    "\n",
    "**weekday_6:** A coefficient value of ‘0.056909’ indicated that w.r.t weekday_1, a unit increase in weekday_6 variable increases the bike hire numbers by 0.056909 units.\n",
    "\n",
    "**weathersit_2:** A coefficient value of ‘-0.074807’ indicated that, w.r.t Weathersit1, a unit increase in Weathersit2 variable, decreases the bike hire numbers by 0.074807 units.\n",
    "\n",
    "**const:** The Constant value of ‘0.084143’ indicated that, in the absence of all other predictor variables (i.e. when x1,x2...xn =0), The bike rental can still increase by 0.084143 units."
   ]
  },
  {
   "cell_type": "markdown",
   "metadata": {
    "papermill": {
     "duration": 0.142803,
     "end_time": "2022-01-22T13:17:03.995914",
     "exception": false,
     "start_time": "2022-01-22T13:17:03.853111",
     "status": "completed"
    },
    "tags": []
   },
   "source": [
    "# ASSUMPTIONS "
   ]
  },
  {
   "cell_type": "markdown",
   "metadata": {
    "papermill": {
     "duration": 0.139836,
     "end_time": "2022-01-22T13:17:04.278149",
     "exception": false,
     "start_time": "2022-01-22T13:17:04.138313",
     "status": "completed"
    },
    "tags": []
   },
   "source": [
    "## Error terms are normally distributed with mean zero (not X, Y)\n",
    "- Residual Analysis Of Training Data"
   ]
  },
  {
   "cell_type": "code",
   "execution_count": null,
   "metadata": {
    "execution": {
     "iopub.execute_input": "2022-01-22T13:17:04.565636Z",
     "iopub.status.busy": "2022-01-22T13:17:04.564876Z",
     "iopub.status.idle": "2022-01-22T13:17:04.568098Z",
     "shell.execute_reply": "2022-01-22T13:17:04.567567Z"
    },
    "papermill": {
     "duration": 0.150037,
     "end_time": "2022-01-22T13:17:04.568241",
     "exception": false,
     "start_time": "2022-01-22T13:17:04.418204",
     "status": "completed"
    },
    "tags": []
   },
   "outputs": [],
   "source": [
    "y_train_pred = lr6.predict(X_train_lm6)"
   ]
  },
  {
   "cell_type": "code",
   "execution_count": null,
   "metadata": {
    "execution": {
     "iopub.execute_input": "2022-01-22T13:17:04.864204Z",
     "iopub.status.busy": "2022-01-22T13:17:04.863446Z",
     "iopub.status.idle": "2022-01-22T13:17:05.064873Z",
     "shell.execute_reply": "2022-01-22T13:17:05.064187Z"
    },
    "papermill": {
     "duration": 0.355016,
     "end_time": "2022-01-22T13:17:05.065073",
     "exception": false,
     "start_time": "2022-01-22T13:17:04.710057",
     "status": "completed"
    },
    "tags": []
   },
   "outputs": [],
   "source": [
    "res = y_train-y_train_pred\n",
    "# Plot the histogram of the error terms\n",
    "fig = plt.figure()\n",
    "sns.distplot((res), bins = 20)\n",
    "fig.suptitle('Error Terms', fontsize = 20)                  # Plot heading \n",
    "plt.xlabel('Errors', fontsize = 18)                         # X-label"
   ]
  },
  {
   "cell_type": "markdown",
   "metadata": {
    "papermill": {
     "duration": 0.152226,
     "end_time": "2022-01-22T13:17:05.374747",
     "exception": false,
     "start_time": "2022-01-22T13:17:05.222521",
     "status": "completed"
    },
    "tags": []
   },
   "source": [
    "### Insights\n",
    "- From the above histogram, we could see that the Residuals are normally distributed. Hence our assumption for Linear Regression is valid."
   ]
  },
  {
   "cell_type": "markdown",
   "metadata": {
    "papermill": {
     "duration": 0.149627,
     "end_time": "2022-01-22T13:17:05.676282",
     "exception": false,
     "start_time": "2022-01-22T13:17:05.526655",
     "status": "completed"
    },
    "tags": []
   },
   "source": [
    "## There is a linear relationship between X and Y"
   ]
  },
  {
   "cell_type": "code",
   "execution_count": null,
   "metadata": {
    "execution": {
     "iopub.execute_input": "2022-01-22T13:17:06.012426Z",
     "iopub.status.busy": "2022-01-22T13:17:06.011362Z",
     "iopub.status.idle": "2022-01-22T13:17:12.600054Z",
     "shell.execute_reply": "2022-01-22T13:17:12.600601Z"
    },
    "papermill": {
     "duration": 6.757554,
     "end_time": "2022-01-22T13:17:12.600749",
     "exception": false,
     "start_time": "2022-01-22T13:17:05.843195",
     "status": "completed"
    },
    "tags": []
   },
   "outputs": [],
   "source": [
    "bike_new=bike_new[[ 'temp', 'atemp', 'hum', 'windspeed','cnt']]\n",
    "\n",
    "sns.pairplot(bike_num, diag_kind='kde')\n",
    "plt.show()"
   ]
  },
  {
   "cell_type": "markdown",
   "metadata": {
    "papermill": {
     "duration": 0.149539,
     "end_time": "2022-01-22T13:17:12.901257",
     "exception": false,
     "start_time": "2022-01-22T13:17:12.751718",
     "status": "completed"
    },
    "tags": []
   },
   "source": [
    "## Insight\n",
    "- Using the pair plot, we could see there is a linear relation between temp and atemp variable with the predictor ‘cnt’."
   ]
  },
  {
   "cell_type": "markdown",
   "metadata": {
    "papermill": {
     "duration": 0.148854,
     "end_time": "2022-01-22T13:17:13.200655",
     "exception": false,
     "start_time": "2022-01-22T13:17:13.051801",
     "status": "completed"
    },
    "tags": []
   },
   "source": [
    "## There is No Multicollinearity between the predictor variables"
   ]
  },
  {
   "cell_type": "code",
   "execution_count": null,
   "metadata": {
    "execution": {
     "iopub.execute_input": "2022-01-22T13:17:13.511221Z",
     "iopub.status.busy": "2022-01-22T13:17:13.510514Z",
     "iopub.status.idle": "2022-01-22T13:17:13.534517Z",
     "shell.execute_reply": "2022-01-22T13:17:13.535155Z"
    },
    "papermill": {
     "duration": 0.184408,
     "end_time": "2022-01-22T13:17:13.535318",
     "exception": false,
     "start_time": "2022-01-22T13:17:13.350910",
     "status": "completed"
    },
    "tags": []
   },
   "outputs": [],
   "source": [
    "# Check for the VIF values of the feature variables. \n",
    "from statsmodels.stats.outliers_influence import variance_inflation_factor\n",
    "\n",
    "# Create a dataframe that will contain the names of all the feature variables and their respective VIFs\n",
    "vif = pd.DataFrame()\n",
    "vif['Features'] = X_train_new.columns\n",
    "vif['VIF'] = [variance_inflation_factor(X_train_new.values, i) for i in range(X_train_new.shape[1])]\n",
    "vif['VIF'] = round(vif['VIF'], 2)\n",
    "vif = vif.sort_values(by = \"VIF\", ascending = False)\n",
    "vif"
   ]
  },
  {
   "cell_type": "markdown",
   "metadata": {
    "papermill": {
     "duration": 0.149535,
     "end_time": "2022-01-22T13:17:13.835687",
     "exception": false,
     "start_time": "2022-01-22T13:17:13.686152",
     "status": "completed"
    },
    "tags": []
   },
   "source": [
    "## Insight\n",
    "\n",
    " - From the VIF calculation we could find that there is no multicollinearity existing between the predictor variables, as all the values are within permissible range of below 5"
   ]
  },
  {
   "cell_type": "markdown",
   "metadata": {
    "papermill": {
     "duration": 0.153391,
     "end_time": "2022-01-22T13:17:14.141533",
     "exception": false,
     "start_time": "2022-01-22T13:17:13.988142",
     "status": "completed"
    },
    "tags": []
   },
   "source": [
    "# MAKING PREDICTION USING FINAL MODEL\n",
    "\n",
    "Now that we have fitted the model and checked the assumptions, it's time to go ahead and make predictions using the final model (lr6)\n",
    "\n",
    "### Applying the scaling on the test sets"
   ]
  },
  {
   "cell_type": "code",
   "execution_count": null,
   "metadata": {
    "execution": {
     "iopub.execute_input": "2022-01-22T13:17:14.445870Z",
     "iopub.status.busy": "2022-01-22T13:17:14.444853Z",
     "iopub.status.idle": "2022-01-22T13:17:14.455588Z",
     "shell.execute_reply": "2022-01-22T13:17:14.456139Z"
    },
    "papermill": {
     "duration": 0.164152,
     "end_time": "2022-01-22T13:17:14.456290",
     "exception": false,
     "start_time": "2022-01-22T13:17:14.292138",
     "status": "completed"
    },
    "tags": []
   },
   "outputs": [],
   "source": [
    "# Apply scaler() to all numeric variables in test dataset. Note: we will only use scaler.transform, \n",
    "# as we want to use the metrics that the model learned from the training data to be applied on the test data. \n",
    "# In other words, we want to prevent the information leak from train to test dataset.\n",
    "\n",
    "num_vars = ['temp', 'atemp', 'hum', 'windspeed','cnt']\n",
    "\n",
    "df_test[num_vars] = scaler.transform(df_test[num_vars])"
   ]
  },
  {
   "cell_type": "code",
   "execution_count": null,
   "metadata": {
    "execution": {
     "iopub.execute_input": "2022-01-22T13:17:14.763702Z",
     "iopub.status.busy": "2022-01-22T13:17:14.762288Z",
     "iopub.status.idle": "2022-01-22T13:17:14.785330Z",
     "shell.execute_reply": "2022-01-22T13:17:14.784739Z"
    },
    "papermill": {
     "duration": 0.176995,
     "end_time": "2022-01-22T13:17:14.785470",
     "exception": false,
     "start_time": "2022-01-22T13:17:14.608475",
     "status": "completed"
    },
    "tags": []
   },
   "outputs": [],
   "source": [
    "df_test.head()"
   ]
  },
  {
   "cell_type": "code",
   "execution_count": null,
   "metadata": {
    "execution": {
     "iopub.execute_input": "2022-01-22T13:17:15.098868Z",
     "iopub.status.busy": "2022-01-22T13:17:15.098146Z",
     "iopub.status.idle": "2022-01-22T13:17:15.196381Z",
     "shell.execute_reply": "2022-01-22T13:17:15.195809Z"
    },
    "papermill": {
     "duration": 0.259185,
     "end_time": "2022-01-22T13:17:15.196521",
     "exception": false,
     "start_time": "2022-01-22T13:17:14.937336",
     "status": "completed"
    },
    "tags": []
   },
   "outputs": [],
   "source": [
    "df_test.describe()"
   ]
  },
  {
   "cell_type": "markdown",
   "metadata": {
    "papermill": {
     "duration": 0.15274,
     "end_time": "2022-01-22T13:17:15.501511",
     "exception": false,
     "start_time": "2022-01-22T13:17:15.348771",
     "status": "completed"
    },
    "tags": []
   },
   "source": [
    "### Dividing into X_test and y_test"
   ]
  },
  {
   "cell_type": "code",
   "execution_count": null,
   "metadata": {
    "execution": {
     "iopub.execute_input": "2022-01-22T13:17:15.827533Z",
     "iopub.status.busy": "2022-01-22T13:17:15.826767Z",
     "iopub.status.idle": "2022-01-22T13:17:15.829779Z",
     "shell.execute_reply": "2022-01-22T13:17:15.830295Z"
    },
    "papermill": {
     "duration": 0.177087,
     "end_time": "2022-01-22T13:17:15.830443",
     "exception": false,
     "start_time": "2022-01-22T13:17:15.653356",
     "status": "completed"
    },
    "tags": []
   },
   "outputs": [],
   "source": [
    "y_test = df_test.pop('cnt')\n",
    "X_test = df_test\n",
    "X_test.info()"
   ]
  },
  {
   "cell_type": "code",
   "execution_count": null,
   "metadata": {
    "execution": {
     "iopub.execute_input": "2022-01-22T13:17:16.145765Z",
     "iopub.status.busy": "2022-01-22T13:17:16.145067Z",
     "iopub.status.idle": "2022-01-22T13:17:16.161042Z",
     "shell.execute_reply": "2022-01-22T13:17:16.161692Z"
    },
    "papermill": {
     "duration": 0.173883,
     "end_time": "2022-01-22T13:17:16.161843",
     "exception": false,
     "start_time": "2022-01-22T13:17:15.987960",
     "status": "completed"
    },
    "tags": []
   },
   "outputs": [],
   "source": [
    "#Selecting the variables that were part of final model.\n",
    "col1=X_train_new.columns\n",
    "X_test=X_test[col1]\n",
    "# Adding constant variable to test dataframe\n",
    "X_test_lm6 = sm.add_constant(X_test)\n",
    "X_test_lm6.info()"
   ]
  },
  {
   "cell_type": "code",
   "execution_count": null,
   "metadata": {
    "execution": {
     "iopub.execute_input": "2022-01-22T13:17:16.471437Z",
     "iopub.status.busy": "2022-01-22T13:17:16.470762Z",
     "iopub.status.idle": "2022-01-22T13:17:16.475142Z",
     "shell.execute_reply": "2022-01-22T13:17:16.475671Z"
    },
    "papermill": {
     "duration": 0.160396,
     "end_time": "2022-01-22T13:17:16.475819",
     "exception": false,
     "start_time": "2022-01-22T13:17:16.315423",
     "status": "completed"
    },
    "tags": []
   },
   "outputs": [],
   "source": [
    "# Making predictions using the final model (lr6)\n",
    "\n",
    "y_pred = lr6.predict(X_test_lm6)"
   ]
  },
  {
   "cell_type": "markdown",
   "metadata": {
    "papermill": {
     "duration": 0.154203,
     "end_time": "2022-01-22T13:17:16.783536",
     "exception": false,
     "start_time": "2022-01-22T13:17:16.629333",
     "status": "completed"
    },
    "tags": []
   },
   "source": [
    "# MODEL EVALUATION"
   ]
  },
  {
   "cell_type": "code",
   "execution_count": null,
   "metadata": {
    "execution": {
     "iopub.execute_input": "2022-01-22T13:17:17.112328Z",
     "iopub.status.busy": "2022-01-22T13:17:17.111672Z",
     "iopub.status.idle": "2022-01-22T13:17:17.260644Z",
     "shell.execute_reply": "2022-01-22T13:17:17.261189Z"
    },
    "papermill": {
     "duration": 0.305443,
     "end_time": "2022-01-22T13:17:17.261342",
     "exception": false,
     "start_time": "2022-01-22T13:17:16.955899",
     "status": "completed"
    },
    "tags": []
   },
   "outputs": [],
   "source": [
    "# Plotting y_test and y_pred to understand the spread\n",
    "\n",
    "fig = plt.figure()\n",
    "plt.scatter(y_test, y_pred, alpha=.5)\n",
    "fig.suptitle('y_test vs y_pred', fontsize = 20)              # Plot heading \n",
    "plt.xlabel('y_test', fontsize = 18)                          # X-label\n",
    "plt.ylabel('y_pred', fontsize = 16) \n",
    "plt.show()"
   ]
  },
  {
   "cell_type": "markdown",
   "metadata": {
    "papermill": {
     "duration": 0.154994,
     "end_time": "2022-01-22T13:17:17.569624",
     "exception": false,
     "start_time": "2022-01-22T13:17:17.414630",
     "status": "completed"
    },
    "tags": []
   },
   "source": [
    " # R^2 Value for TEST"
   ]
  },
  {
   "cell_type": "code",
   "execution_count": null,
   "metadata": {
    "execution": {
     "iopub.execute_input": "2022-01-22T13:17:17.883061Z",
     "iopub.status.busy": "2022-01-22T13:17:17.882348Z",
     "iopub.status.idle": "2022-01-22T13:17:17.889327Z",
     "shell.execute_reply": "2022-01-22T13:17:17.889876Z"
    },
    "papermill": {
     "duration": 0.166609,
     "end_time": "2022-01-22T13:17:17.890041",
     "exception": false,
     "start_time": "2022-01-22T13:17:17.723432",
     "status": "completed"
    },
    "tags": []
   },
   "outputs": [],
   "source": [
    "from sklearn.metrics import r2_score\n",
    "r2_score(y_test, y_pred)"
   ]
  },
  {
   "cell_type": "markdown",
   "metadata": {
    "papermill": {
     "duration": 0.154355,
     "end_time": "2022-01-22T13:17:18.204271",
     "exception": false,
     "start_time": "2022-01-22T13:17:18.049916",
     "status": "completed"
    },
    "tags": []
   },
   "source": [
    "## Adjusted R^2 Value for TEST"
   ]
  },
  {
   "cell_type": "code",
   "execution_count": null,
   "metadata": {
    "execution": {
     "iopub.execute_input": "2022-01-22T13:17:18.516592Z",
     "iopub.status.busy": "2022-01-22T13:17:18.515848Z",
     "iopub.status.idle": "2022-01-22T13:17:18.519675Z",
     "shell.execute_reply": "2022-01-22T13:17:18.520228Z"
    },
    "papermill": {
     "duration": 0.160998,
     "end_time": "2022-01-22T13:17:18.520381",
     "exception": false,
     "start_time": "2022-01-22T13:17:18.359383",
     "status": "completed"
    },
    "tags": []
   },
   "outputs": [],
   "source": [
    "# We already have the value of R^2 (calculated in above step)\n",
    "\n",
    "r2=0.8203092200749708"
   ]
  },
  {
   "cell_type": "code",
   "execution_count": null,
   "metadata": {
    "execution": {
     "iopub.execute_input": "2022-01-22T13:17:18.836362Z",
     "iopub.status.busy": "2022-01-22T13:17:18.835632Z",
     "iopub.status.idle": "2022-01-22T13:17:18.840042Z",
     "shell.execute_reply": "2022-01-22T13:17:18.840617Z"
    },
    "papermill": {
     "duration": 0.164986,
     "end_time": "2022-01-22T13:17:18.840763",
     "exception": false,
     "start_time": "2022-01-22T13:17:18.675777",
     "status": "completed"
    },
    "tags": []
   },
   "outputs": [],
   "source": [
    "# Get the shape of X_test\n",
    "X_test.shape\n"
   ]
  },
  {
   "cell_type": "code",
   "execution_count": null,
   "metadata": {
    "execution": {
     "iopub.execute_input": "2022-01-22T13:17:19.155894Z",
     "iopub.status.busy": "2022-01-22T13:17:19.155213Z",
     "iopub.status.idle": "2022-01-22T13:17:19.161674Z",
     "shell.execute_reply": "2022-01-22T13:17:19.162316Z"
    },
    "papermill": {
     "duration": 0.165264,
     "end_time": "2022-01-22T13:17:19.162463",
     "exception": false,
     "start_time": "2022-01-22T13:17:18.997199",
     "status": "completed"
    },
    "tags": []
   },
   "outputs": [],
   "source": [
    "# n is number of rows in X\n",
    "\n",
    "n = X_test.shape[0]\n",
    "\n",
    "\n",
    "# Number of features (predictors, p) is the shape along axis 1\n",
    "p = X_test.shape[1]\n",
    "\n",
    "# We find the Adjusted R-squared using the formula\n",
    "\n",
    "adjusted_r2 = 1-(1-r2)*(n-1)/(n-p-1)\n",
    "adjusted_r2"
   ]
  },
  {
   "cell_type": "markdown",
   "metadata": {
    "papermill": {
     "duration": 0.15896,
     "end_time": "2022-01-22T13:17:19.479432",
     "exception": false,
     "start_time": "2022-01-22T13:17:19.320472",
     "status": "completed"
    },
    "tags": []
   },
   "source": [
    "# Final Result Comparison"
   ]
  },
  {
   "cell_type": "markdown",
   "metadata": {
    "papermill": {
     "duration": 0.160611,
     "end_time": "2022-01-22T13:17:19.798478",
     "exception": false,
     "start_time": "2022-01-22T13:17:19.637867",
     "status": "completed"
    },
    "tags": []
   },
   "source": [
    "- Train R^2 :0.824\n",
    "- Train Adjusted R^2 :0.821 \n",
    "- Test R^2 :0.820\n",
    "- Test Adjusted R^2 :0.812 \n",
    "- This seems to be a really good model that can very well 'Generalize' various datasets."
   ]
  },
  {
   "cell_type": "markdown",
   "metadata": {
    "papermill": {
     "duration": 0.156943,
     "end_time": "2022-01-22T13:17:20.114197",
     "exception": false,
     "start_time": "2022-01-22T13:17:19.957254",
     "status": "completed"
    },
    "tags": []
   },
   "source": [
    "# FINAL REPORT"
   ]
  },
  {
   "cell_type": "markdown",
   "metadata": {
    "papermill": {
     "duration": 0.155727,
     "end_time": "2022-01-22T13:17:20.428688",
     "exception": false,
     "start_time": "2022-01-22T13:17:20.272961",
     "status": "completed"
    },
    "tags": []
   },
   "source": [
    "As per our final Model, the top 3 predictor variables that influences the bike booking are: \n",
    "- **Temperature (temp)** - A coefficient value of ‘0.5636’ indicated that a unit increase in temp variable increases the bike hire numbers by 0.5636 units. \n",
    "- **Weather Situation 3 (weathersit_3)** - A coefficient value of ‘-0.3070’ indicated that, w.r.t Weathersit1, a unit increase in Weathersit3 variable decreases the bike hire numbers by 0.3070 units.\n",
    "- **Year (yr)** - A coefficient value of ‘0.2308’ indicated that a unit increase in yr variable increases the bike hire numbers by 0.2308 units. \n",
    "\n",
    "#### So, it's suggested to consider these variables utmost importance while planning, to achive maximum Booking\n",
    "\n",
    "The next best features that can also be considered are \n",
    "- **season_4:** - A coefficient value of ‘0.128744’ indicated that w.r.t season_1, a unit increase in season_4 variable increases the bike hire numbers by 0.128744 units. \n",
    "- **windspeed:** - A coefficient value of ‘-0.155191’ indicated that, a unit increase in windspeed variable decreases the bike hire numbers by 0.155191 units. \n",
    "\n",
    " #### NOTE: \n",
    " - The details of weathersit_1 & weathersit_3 \n",
    " - **weathersit_1:** Clear, Few clouds, Partly cloudy, Partly cloudy\n",
    " - **weathersit_3:** Light Snow, Light Rain + Thunderstorm + Scattered clouds, Light Rain + Scattered clouds \n",
    " \n",
    " \n",
    " The details of season1 & season4 \n",
    " - **season1:** spring \n",
    " - **season4:** winter"
   ]
  }
 ],
 "metadata": {
  "kernelspec": {
   "display_name": "Python 3 (ipykernel)",
   "language": "python",
   "name": "python3"
  },
  "language_info": {
   "codemirror_mode": {
    "name": "ipython",
    "version": 3
   },
   "file_extension": ".py",
   "mimetype": "text/x-python",
   "name": "python",
   "nbconvert_exporter": "python",
   "pygments_lexer": "ipython3",
   "version": "3.10.3"
  },
  "papermill": {
   "duration": 68.508346,
   "end_time": "2022-01-22T13:17:20.696675",
   "environment_variables": {},
   "exception": null,
   "input_path": "__notebook__.ipynb",
   "output_path": "__notebook__.ipynb",
   "parameters": {},
   "start_time": "2022-01-22T13:16:12.188329",
   "version": "2.1.0"
  }
 },
 "nbformat": 4,
 "nbformat_minor": 4
}
